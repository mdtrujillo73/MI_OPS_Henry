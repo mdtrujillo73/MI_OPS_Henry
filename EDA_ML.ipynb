{
 "cells": [
  {
   "cell_type": "markdown",
   "id": "42942692",
   "metadata": {},
   "source": [
    "# EDA para ML"
   ]
  },
  {
   "cell_type": "code",
   "execution_count": 1,
   "id": "e53da7de-c8a8-47c5-a0c9-9769aab3d907",
   "metadata": {
    "tags": []
   },
   "outputs": [],
   "source": [
    "import pandas as pd\n",
    "from textblob import TextBlob\n",
    "import time\n",
    "import string\n",
    "import matplotlib.pyplot as plt\n"
   ]
  },
  {
   "cell_type": "markdown",
   "id": "4ff79377-558d-4112-9c82-f0163ac2d655",
   "metadata": {},
   "source": [
    "Preparación de datos"
   ]
  },
  {
   "cell_type": "markdown",
   "id": "19fa8e28-b0d1-424a-bba8-b60316a5ec12",
   "metadata": {},
   "source": [
    "DataFrame Steam Games"
   ]
  },
  {
   "cell_type": "markdown",
   "id": "7ad2c6cf-8428-419a-b3dc-1e021316bd18",
   "metadata": {},
   "source": [
    "Cargo la base de datos y reviso el tipo de cada columna de los dataset. Realizo conversiones de tipos de datos."
   ]
  },
  {
   "cell_type": "code",
   "execution_count": 2,
   "id": "5403bac7-2164-45eb-a589-0e93cbbf5f3e",
   "metadata": {
    "tags": []
   },
   "outputs": [
    {
     "name": "stderr",
     "output_type": "stream",
     "text": [
      "C:\\Users\\Administrador\\AppData\\Roaming\\Python\\Python37\\site-packages\\IPython\\core\\interactiveshell.py:3553: DtypeWarning: Columns (0,1,2,3,4,5,6,7,8,9,10,12) have mixed types.Specify dtype option on import or set low_memory=False.\n",
      "  exec(code_obj, self.user_global_ns, self.user_ns)\n"
     ]
    }
   ],
   "source": [
    "df_steam_games = pd.read_csv('steam_games.csv')"
   ]
  },
  {
   "cell_type": "markdown",
   "id": "0c48f9cf-a9ff-40f3-821d-c2770cb6bebc",
   "metadata": {},
   "source": [
    "Elimino Nulos y duplicados"
   ]
  },
  {
   "cell_type": "code",
   "execution_count": 3,
   "id": "17d89a0b-2d4c-4731-9bae-b4bd51cd01e1",
   "metadata": {
    "tags": []
   },
   "outputs": [],
   "source": [
    "df_steam_games.dropna(subset= ['id'], inplace=True)"
   ]
  },
  {
   "cell_type": "code",
   "execution_count": 4,
   "id": "00b76a96-6680-4610-9697-5d702aee77c4",
   "metadata": {
    "tags": []
   },
   "outputs": [],
   "source": [
    "df_steam_games.drop_duplicates(inplace=True)"
   ]
  },
  {
   "cell_type": "markdown",
   "id": "8a356d38-a2a1-480d-9642-4bac99f38925",
   "metadata": {},
   "source": [
    "Preparo la columna de release_date (fecha de lanzamiento) para obtener el año de lanzamiento"
   ]
  },
  {
   "cell_type": "code",
   "execution_count": 5,
   "id": "1d093d27-aae9-464c-a82a-48e283f3fd81",
   "metadata": {
    "tags": []
   },
   "outputs": [],
   "source": [
    "\n",
    "# Convierte la columna 'release_date' a objetos de fecha con el formato 'YYYY-MM-DD'\n",
    "df_steam_games['release_date'] = pd.to_datetime(df_steam_games['release_date'], format='%Y-%m-%d', errors='coerce')\n",
    "\n",
    "# Extrae el año y crea una nueva columna 'release_year'\n",
    "df_steam_games['release_year'] = df_steam_games['release_date'].dt.year\n",
    "\n",
    "df_steam_games = df_steam_games.drop('release_date', axis=1)\n"
   ]
  },
  {
   "cell_type": "markdown",
   "id": "31636e3f-6c24-4048-8908-75b8726c378c",
   "metadata": {},
   "source": [
    "Preparo la columna de Genres (género) para obtener info sobre el tipo de juego"
   ]
  },
  {
   "cell_type": "code",
   "execution_count": 6,
   "id": "c3fe70be-9c46-4819-b123-de77aa9cb8f2",
   "metadata": {
    "tags": []
   },
   "outputs": [],
   "source": [
    "#Convierto genres en str\n",
    "df_steam_games['genres'] = df_steam_games['genres'].astype(str)\n",
    "# Desanidar la columna 'genres' y crear una nueva columna 'genre'\n",
    "df_steam_games['genre'] = df_steam_games['genres'].apply(lambda x: x.strip(\"[]\").replace(\"'\", \"\").split(', '))\n",
    "\n",
    "# Explotar la columna 'genre' en múltiples filas\n",
    "df_steam_games = df_steam_games.explode('genre')"
   ]
  },
  {
   "cell_type": "code",
   "execution_count": 7,
   "id": "ab900a32-eccc-41c7-b4f3-081e5c870b27",
   "metadata": {
    "tags": []
   },
   "outputs": [],
   "source": [
    "\n",
    "#Elimino la genres original\n",
    "df_steam_games = df_steam_games.drop('genres',axis=1)"
   ]
  },
  {
   "cell_type": "markdown",
   "id": "d7cc8c0d-ab75-4c8d-91df-5040d85f58fc",
   "metadata": {},
   "source": [
    "Preparo la columna de Tag (etiqueta) para obtener info sobre el tipo de juego"
   ]
  },
  {
   "cell_type": "code",
   "execution_count": 8,
   "id": "5167ba27-f26d-4135-9b31-f444f2d42611",
   "metadata": {
    "tags": []
   },
   "outputs": [],
   "source": [
    "#Convierto tags en str\n",
    "df_steam_games['tags'] = df_steam_games['tags'].astype(str)\n",
    "# Desanidar la columna 'tags' y crear una nueva columna 'tags'\n",
    "df_steam_games['tag'] = df_steam_games['tags'].apply(lambda x: x.strip(\"[]\").replace(\"'\", \"\").split(', '))\n",
    "\n",
    "# Explotar la columna 'tag' en múltiples filas\n",
    "df_steam_games = df_steam_games.explode('tag')\n",
    "\n"
   ]
  },
  {
   "cell_type": "code",
   "execution_count": 9,
   "id": "7499d587-c857-4af3-900e-a955b3049298",
   "metadata": {
    "tags": []
   },
   "outputs": [],
   "source": [
    "\n",
    "#Elimino la tag original\n",
    "df_steam_games = df_steam_games.drop('tags',axis=1)"
   ]
  },
  {
   "cell_type": "markdown",
   "id": "c1d75d6c-f832-4cd5-8884-ff77e3367e97",
   "metadata": {},
   "source": [
    "Preparo la columna de Specs (especificaciones) "
   ]
  },
  {
   "cell_type": "code",
   "execution_count": 10,
   "id": "202a4d0f-be7e-4155-841f-70b87a5746ee",
   "metadata": {
    "tags": []
   },
   "outputs": [],
   "source": [
    "#Convierto columna specs en str\n",
    "df_steam_games['specs'] = df_steam_games['specs'].astype(str)\n",
    "# Desanidar la columna 'tags' y crear una nueva columna 'tags'\n",
    "df_steam_games['spec'] = df_steam_games['specs'].apply(lambda x: x.strip(\"[]\").replace(\"'\", \"\").split(', '))\n",
    "\n",
    "# Explotar la columna 'tag' en múltiples filas\n",
    "df_steam_games = df_steam_games.explode('spec')\n"
   ]
  },
  {
   "cell_type": "code",
   "execution_count": 11,
   "id": "bf5c733d-99b5-4cd6-ad26-35cb8b2fd2aa",
   "metadata": {
    "tags": []
   },
   "outputs": [],
   "source": [
    "#Elimino la specs original\n",
    "df_steam_games = df_steam_games.drop('specs',axis=1)"
   ]
  },
  {
   "cell_type": "markdown",
   "id": "e9f33505-3dd9-45f8-816c-b1b62872ed71",
   "metadata": {},
   "source": [
    "Elimino variables si es que consideran irrelevantes, sustentando adecuadamente por qué."
   ]
  },
  {
   "cell_type": "code",
   "execution_count": 12,
   "id": "5ab03321-d544-40bc-baf6-54ae7edf40ac",
   "metadata": {
    "tags": []
   },
   "outputs": [
    {
     "data": {
      "text/plain": [
       "count                 1994881\n",
       "unique                  10992\n",
       "top       SmiteWorks USA, LLC\n",
       "freq                    45621\n",
       "Name: developer, dtype: object"
      ]
     },
     "execution_count": 12,
     "metadata": {},
     "output_type": "execute_result"
    }
   ],
   "source": [
    "df_steam_games['developer'].describe() #por ahora dejo esta columna"
   ]
  },
  {
   "cell_type": "code",
   "execution_count": 13,
   "id": "1086ab00-6da8-4d29-ba85-1ecf00d87e7a",
   "metadata": {
    "tags": []
   },
   "outputs": [],
   "source": [
    "df_steam_games = df_steam_games.drop('url',axis=1) #'''No lo usare para el sistema de recomendacion'''\n",
    "df_steam_games = df_steam_games.drop('reviews_url',axis=1) #'''No lo usare para el sistema de recomendacion'''\n",
    "df_steam_games = df_steam_games.drop('publisher',axis=1) #'''Por tener nulos y no ser necesario'''\n",
    "df_steam_games = df_steam_games.drop('title',axis=1) #'''Por tener nulos y no ser necesario'''\n",
    "df_steam_games = df_steam_games.drop('genre',axis=1) #'''Por ser redundante con tag'''\n"
   ]
  },
  {
   "cell_type": "code",
   "execution_count": 15,
   "id": "9251fcaf-08ed-4c49-81d4-90c5656b51ef",
   "metadata": {
    "tags": []
   },
   "outputs": [],
   "source": [
    "#Elimino los NAN de la columna price, devloper y release_year\n",
    "df_steam_games.dropna(subset=['price'], inplace=True)\n",
    "df_steam_games.dropna(subset=['developer'], inplace=True)\n",
    "df_steam_games.dropna(subset=['release_year'], inplace=True)"
   ]
  },
  {
   "cell_type": "code",
   "execution_count": 16,
   "id": "30e1de7e-79ae-461c-a851-b00205a178f1",
   "metadata": {
    "tags": []
   },
   "outputs": [
    {
     "name": "stdout",
     "output_type": "stream",
     "text": [
      "app_name        0\n",
      "price           0\n",
      "early_access    0\n",
      "id              0\n",
      "developer       0\n",
      "release_year    0\n",
      "tag             0\n",
      "spec            0\n",
      "dtype: int64\n"
     ]
    }
   ],
   "source": [
    "print(df_steam_games.isna().sum())\n"
   ]
  },
  {
   "cell_type": "code",
   "execution_count": 17,
   "id": "4d7aa3f7-00f1-42ca-9e9c-e8e4dbdb9eb1",
   "metadata": {
    "tags": []
   },
   "outputs": [
    {
     "data": {
      "text/html": [
       "<div>\n",
       "<style scoped>\n",
       "    .dataframe tbody tr th:only-of-type {\n",
       "        vertical-align: middle;\n",
       "    }\n",
       "\n",
       "    .dataframe tbody tr th {\n",
       "        vertical-align: top;\n",
       "    }\n",
       "\n",
       "    .dataframe thead th {\n",
       "        text-align: right;\n",
       "    }\n",
       "</style>\n",
       "<table border=\"1\" class=\"dataframe\">\n",
       "  <thead>\n",
       "    <tr style=\"text-align: right;\">\n",
       "      <th></th>\n",
       "      <th>app_name</th>\n",
       "      <th>price</th>\n",
       "      <th>early_access</th>\n",
       "      <th>id</th>\n",
       "      <th>developer</th>\n",
       "      <th>release_year</th>\n",
       "      <th>tag</th>\n",
       "      <th>spec</th>\n",
       "    </tr>\n",
       "  </thead>\n",
       "  <tbody>\n",
       "    <tr>\n",
       "      <th>88310</th>\n",
       "      <td>Lost Summoner Kitty</td>\n",
       "      <td>4.99</td>\n",
       "      <td>False</td>\n",
       "      <td>761140.0</td>\n",
       "      <td>Kotoshiro</td>\n",
       "      <td>2018.0</td>\n",
       "      <td>Strategy</td>\n",
       "      <td>Single-player</td>\n",
       "    </tr>\n",
       "    <tr>\n",
       "      <th>88310</th>\n",
       "      <td>Lost Summoner Kitty</td>\n",
       "      <td>4.99</td>\n",
       "      <td>False</td>\n",
       "      <td>761140.0</td>\n",
       "      <td>Kotoshiro</td>\n",
       "      <td>2018.0</td>\n",
       "      <td>Action</td>\n",
       "      <td>Single-player</td>\n",
       "    </tr>\n",
       "    <tr>\n",
       "      <th>88310</th>\n",
       "      <td>Lost Summoner Kitty</td>\n",
       "      <td>4.99</td>\n",
       "      <td>False</td>\n",
       "      <td>761140.0</td>\n",
       "      <td>Kotoshiro</td>\n",
       "      <td>2018.0</td>\n",
       "      <td>Indie</td>\n",
       "      <td>Single-player</td>\n",
       "    </tr>\n",
       "    <tr>\n",
       "      <th>88310</th>\n",
       "      <td>Lost Summoner Kitty</td>\n",
       "      <td>4.99</td>\n",
       "      <td>False</td>\n",
       "      <td>761140.0</td>\n",
       "      <td>Kotoshiro</td>\n",
       "      <td>2018.0</td>\n",
       "      <td>Casual</td>\n",
       "      <td>Single-player</td>\n",
       "    </tr>\n",
       "    <tr>\n",
       "      <th>88310</th>\n",
       "      <td>Lost Summoner Kitty</td>\n",
       "      <td>4.99</td>\n",
       "      <td>False</td>\n",
       "      <td>761140.0</td>\n",
       "      <td>Kotoshiro</td>\n",
       "      <td>2018.0</td>\n",
       "      <td>Simulation</td>\n",
       "      <td>Single-player</td>\n",
       "    </tr>\n",
       "    <tr>\n",
       "      <th>...</th>\n",
       "      <td>...</td>\n",
       "      <td>...</td>\n",
       "      <td>...</td>\n",
       "      <td>...</td>\n",
       "      <td>...</td>\n",
       "      <td>...</td>\n",
       "      <td>...</td>\n",
       "      <td>...</td>\n",
       "    </tr>\n",
       "    <tr>\n",
       "      <th>120443</th>\n",
       "      <td>EXIT 2 - Directions</td>\n",
       "      <td>4.99</td>\n",
       "      <td>False</td>\n",
       "      <td>658870.0</td>\n",
       "      <td>xropi,stev3ns</td>\n",
       "      <td>2017.0</td>\n",
       "      <td>Atmospheric</td>\n",
       "      <td>Steam Achievements</td>\n",
       "    </tr>\n",
       "    <tr>\n",
       "      <th>120443</th>\n",
       "      <td>EXIT 2 - Directions</td>\n",
       "      <td>4.99</td>\n",
       "      <td>False</td>\n",
       "      <td>658870.0</td>\n",
       "      <td>xropi,stev3ns</td>\n",
       "      <td>2017.0</td>\n",
       "      <td>Atmospheric</td>\n",
       "      <td>Steam Cloud</td>\n",
       "    </tr>\n",
       "    <tr>\n",
       "      <th>120443</th>\n",
       "      <td>EXIT 2 - Directions</td>\n",
       "      <td>4.99</td>\n",
       "      <td>False</td>\n",
       "      <td>658870.0</td>\n",
       "      <td>xropi,stev3ns</td>\n",
       "      <td>2017.0</td>\n",
       "      <td>Relaxing</td>\n",
       "      <td>Single-player</td>\n",
       "    </tr>\n",
       "    <tr>\n",
       "      <th>120443</th>\n",
       "      <td>EXIT 2 - Directions</td>\n",
       "      <td>4.99</td>\n",
       "      <td>False</td>\n",
       "      <td>658870.0</td>\n",
       "      <td>xropi,stev3ns</td>\n",
       "      <td>2017.0</td>\n",
       "      <td>Relaxing</td>\n",
       "      <td>Steam Achievements</td>\n",
       "    </tr>\n",
       "    <tr>\n",
       "      <th>120443</th>\n",
       "      <td>EXIT 2 - Directions</td>\n",
       "      <td>4.99</td>\n",
       "      <td>False</td>\n",
       "      <td>658870.0</td>\n",
       "      <td>xropi,stev3ns</td>\n",
       "      <td>2017.0</td>\n",
       "      <td>Relaxing</td>\n",
       "      <td>Steam Cloud</td>\n",
       "    </tr>\n",
       "  </tbody>\n",
       "</table>\n",
       "<p>1924632 rows × 8 columns</p>\n",
       "</div>"
      ],
      "text/plain": [
       "                   app_name price early_access        id      developer  \\\n",
       "88310   Lost Summoner Kitty  4.99        False  761140.0      Kotoshiro   \n",
       "88310   Lost Summoner Kitty  4.99        False  761140.0      Kotoshiro   \n",
       "88310   Lost Summoner Kitty  4.99        False  761140.0      Kotoshiro   \n",
       "88310   Lost Summoner Kitty  4.99        False  761140.0      Kotoshiro   \n",
       "88310   Lost Summoner Kitty  4.99        False  761140.0      Kotoshiro   \n",
       "...                     ...   ...          ...       ...            ...   \n",
       "120443  EXIT 2 - Directions  4.99        False  658870.0  xropi,stev3ns   \n",
       "120443  EXIT 2 - Directions  4.99        False  658870.0  xropi,stev3ns   \n",
       "120443  EXIT 2 - Directions  4.99        False  658870.0  xropi,stev3ns   \n",
       "120443  EXIT 2 - Directions  4.99        False  658870.0  xropi,stev3ns   \n",
       "120443  EXIT 2 - Directions  4.99        False  658870.0  xropi,stev3ns   \n",
       "\n",
       "        release_year          tag                spec  \n",
       "88310         2018.0     Strategy       Single-player  \n",
       "88310         2018.0       Action       Single-player  \n",
       "88310         2018.0        Indie       Single-player  \n",
       "88310         2018.0       Casual       Single-player  \n",
       "88310         2018.0   Simulation       Single-player  \n",
       "...              ...          ...                 ...  \n",
       "120443        2017.0  Atmospheric  Steam Achievements  \n",
       "120443        2017.0  Atmospheric         Steam Cloud  \n",
       "120443        2017.0     Relaxing       Single-player  \n",
       "120443        2017.0     Relaxing  Steam Achievements  \n",
       "120443        2017.0     Relaxing         Steam Cloud  \n",
       "\n",
       "[1924632 rows x 8 columns]"
      ]
     },
     "execution_count": 17,
     "metadata": {},
     "output_type": "execute_result"
    }
   ],
   "source": [
    "df_steam_games"
   ]
  },
  {
   "cell_type": "code",
   "execution_count": 48,
   "id": "64171001-0ff1-489b-b864-8adb182ca5ad",
   "metadata": {
    "tags": []
   },
   "outputs": [],
   "source": [
    "df_steam_games.to_csv('EDA_steam_game.csv')"
   ]
  },
  {
   "cell_type": "markdown",
   "id": "3b2d06fd-749d-47dd-a0d5-9707aab24309",
   "metadata": {},
   "source": [
    "DataFrame User Reviews"
   ]
  },
  {
   "cell_type": "markdown",
   "id": "2df9024d-4eb0-46a9-9d18-7cd3ae82cd0b",
   "metadata": {},
   "source": [
    "Cargo la base de datos y reviso el tipo de cada columna de los dataset. Realizo conversiones de tipos de datos."
   ]
  },
  {
   "cell_type": "code",
   "execution_count": 19,
   "id": "58322374-4aaf-4c91-976a-78b42c6fe765",
   "metadata": {
    "tags": []
   },
   "outputs": [],
   "source": [
    "df_user_reviews = pd.read_csv('user_reviews.csv')"
   ]
  },
  {
   "cell_type": "markdown",
   "id": "3aec1e88-528e-47cf-9784-08ec58487f48",
   "metadata": {},
   "source": [
    "Elimino Nulos y duplicados"
   ]
  },
  {
   "cell_type": "code",
   "execution_count": 21,
   "id": "cc706bcb-4020-4f04-bf3f-db16e8da9ba3",
   "metadata": {
    "tags": []
   },
   "outputs": [],
   "source": [
    "df_user_reviews.dropna(subset= ['user_id'], inplace=True)"
   ]
  },
  {
   "cell_type": "code",
   "execution_count": 22,
   "id": "4b928c4a-a73d-41d2-bc59-fbfb7c3ded57",
   "metadata": {
    "tags": []
   },
   "outputs": [],
   "source": [
    "df_user_reviews.drop_duplicates(inplace=True)"
   ]
  },
  {
   "cell_type": "markdown",
   "id": "297009f0-b14f-41cd-a3e9-7bed7e370000",
   "metadata": {
    "tags": []
   },
   "source": [
    "Preparo la columna posted de fecha para obtener el año del review"
   ]
  },
  {
   "cell_type": "code",
   "execution_count": 23,
   "id": "43114d05-5cf4-4ecb-a216-cc1a7ac2b999",
   "metadata": {
    "tags": []
   },
   "outputs": [
    {
     "name": "stderr",
     "output_type": "stream",
     "text": [
      "C:\\Users\\Administrador\\AppData\\Roaming\\Python\\Python37\\site-packages\\ipykernel_launcher.py:23: FutureWarning: The default value of regex will change from True to False in a future version. In addition, single character regular expressions will *not* be treated as literal strings when regex=True.\n"
     ]
    }
   ],
   "source": [
    "# Reemplaza 'df' con el nombre real de tu DataFrame y 'columna_texto' con el nombre de la columna que deseas modificar\n",
    "df_user_reviews['posted'] = df_user_reviews['posted'].str.replace('Posted', '', case=False)\n",
    "\n",
    "\n",
    "# Reemplaza 'df' con el nombre real de tu DataFrame y 'columna_texto' con el nombre de la columna que deseas modificar\n",
    "palabras_a_eliminar = [    \"January\",\n",
    "    \"February\",\n",
    "    \"March\",\n",
    "    \"April\",\n",
    "    \"May\",\n",
    "    \"June\",\n",
    "    \"July\",\n",
    "    \"August\",\n",
    "    \"September\",\n",
    "    \"October\",\n",
    "    \"November\",\n",
    "    \"December\"]\n",
    "\n",
    "for palabra in palabras_a_eliminar:\n",
    "    df_user_reviews['posted'] = df_user_reviews['posted'].str.replace(palabra, ' ', case=False)\n",
    "\n",
    "df_user_reviews['posted'] = df_user_reviews['posted'].str.replace(',', '-', case=False)\n",
    "df_user_reviews['posted'] = df_user_reviews['posted'].str.replace('.', '', case=False)\n",
    "\n",
    "# Divide la columna 'posted' por el guion y selecciona la segunda parte\n",
    "df_user_reviews['posted'] = df_user_reviews['posted'].str.split('-').str[1]\n",
    "\n",
    "# Convierte la columna 'posted' a tipo numérico si es necesario\n",
    "df_user_reviews['posted'] = pd.to_numeric(df_user_reviews['posted'], errors='coerce')\n"
   ]
  },
  {
   "cell_type": "code",
   "execution_count": 25,
   "id": "35491a5c-2467-4af4-87f8-f9ccd0216825",
   "metadata": {
    "tags": []
   },
   "outputs": [],
   "source": [
    "df_user_reviews.dropna(subset = ['posted'], inplace= True)"
   ]
  },
  {
   "cell_type": "code",
   "execution_count": 26,
   "id": "afbb2832-705b-4d09-ab04-74cd052cd88c",
   "metadata": {
    "tags": []
   },
   "outputs": [],
   "source": [
    "df_user_reviews['posted'] = df_user_reviews['posted'].astype(int)"
   ]
  },
  {
   "cell_type": "markdown",
   "id": "875b776a-8a64-4922-aef6-718bd385a3ed",
   "metadata": {},
   "source": [
    "Elimino variables si es que consideran irrelevantes, sustentando adecuadamente por qué."
   ]
  },
  {
   "cell_type": "code",
   "execution_count": 27,
   "id": "df0e8b18-e9eb-41e2-b725-5c34e67caa02",
   "metadata": {
    "tags": []
   },
   "outputs": [],
   "source": [
    "df_user_reviews = df_user_reviews.drop('user_url',axis=1) #'''No lo usare para el sistema de recomendacion'''\n",
    "df_user_reviews = df_user_reviews.drop('last_edited',axis=1) #'''Muchos nulos y no lo usare para el sistema de recomendacion'''\n",
    "df_user_reviews = df_user_reviews.drop('funny',axis=1) #'''Muchos nulos y no lo usare para el sistema de recomendacion'''\n",
    "df_user_reviews = df_user_reviews.drop('helpful',axis=1) #'''Interesante, pero no lo usare para el sistema de recomendacion ya que no se qué usuarios, fueron los que dijeron el comentario era helpful'''\n",
    "df_user_reviews = df_user_reviews.drop('0',axis=1) #'''Sin info'''\n"
   ]
  },
  {
   "cell_type": "code",
   "execution_count": 29,
   "id": "3651aab3-1a2b-4f93-802f-7e2868905a99",
   "metadata": {
    "tags": []
   },
   "outputs": [],
   "source": [
    "#Elimino los NAN de la columna review\n",
    "df_user_reviews.dropna(subset=['review'], inplace=True)"
   ]
  },
  {
   "cell_type": "code",
   "execution_count": 30,
   "id": "b9a3601c-5d60-4737-a94a-d4c606bc16aa",
   "metadata": {
    "tags": []
   },
   "outputs": [
    {
     "name": "stdout",
     "output_type": "stream",
     "text": [
      "user_id      0\n",
      "item_id      0\n",
      "posted       0\n",
      "recommend    0\n",
      "review       0\n",
      "dtype: int64\n"
     ]
    }
   ],
   "source": [
    "print(df_user_reviews.isna().sum())\n"
   ]
  },
  {
   "cell_type": "markdown",
   "id": "6ef1d82e-71b0-4e67-9d88-4126a5882075",
   "metadata": {},
   "source": [
    "Transformo Review por Análisis de Sentimiento con TextBlob"
   ]
  },
  {
   "cell_type": "code",
   "execution_count": 31,
   "id": "79b434be-b7eb-4e76-bdb0-4fa5bf87963b",
   "metadata": {
    "tags": []
   },
   "outputs": [],
   "source": [
    "df_user_reviews['review'] = df_user_reviews['review'].astype(str)"
   ]
  },
  {
   "cell_type": "code",
   "execution_count": 32,
   "id": "3671a5e7-a7d6-4533-baaf-b8322cee53cc",
   "metadata": {
    "tags": []
   },
   "outputs": [],
   "source": [
    "from textblob import TextBlob\n",
    "\n",
    "# Define la función de análisis de sentimiento\n",
    "def analyze_sentiment(text):\n",
    "    analysis = TextBlob(text)\n",
    "    sentiment_polarity = analysis.sentiment.polarity\n",
    "\n",
    "    # Determinar el sentimiento basado en la polaridad\n",
    "    if sentiment_polarity > 0:\n",
    "        sentiment = 2\n",
    "    elif sentiment_polarity < 0:\n",
    "        sentiment = 0\n",
    "    else:\n",
    "        sentiment = 1\n",
    "\n",
    "    return sentiment_polarity, sentiment"
   ]
  },
  {
   "cell_type": "code",
   "execution_count": 33,
   "id": "a0bdcf5f-4c46-4d16-a385-5371e2dade29",
   "metadata": {
    "tags": []
   },
   "outputs": [],
   "source": [
    "df_user_reviews['polarity'], df_user_reviews['sentiment'] = zip(*df_user_reviews['review'].apply(analyze_sentiment))"
   ]
  },
  {
   "cell_type": "code",
   "execution_count": 34,
   "id": "f44c749f-c61a-40f6-af22-110e8994efe4",
   "metadata": {
    "tags": []
   },
   "outputs": [],
   "source": [
    "df_user_reviews = df_user_reviews.drop('review', axis = 1)"
   ]
  },
  {
   "cell_type": "code",
   "execution_count": 35,
   "id": "b6c3e1da-b586-4a4c-bf2b-3203e15b5ee5",
   "metadata": {
    "tags": []
   },
   "outputs": [
    {
     "data": {
      "text/html": [
       "<div>\n",
       "<style scoped>\n",
       "    .dataframe tbody tr th:only-of-type {\n",
       "        vertical-align: middle;\n",
       "    }\n",
       "\n",
       "    .dataframe tbody tr th {\n",
       "        vertical-align: top;\n",
       "    }\n",
       "\n",
       "    .dataframe thead th {\n",
       "        text-align: right;\n",
       "    }\n",
       "</style>\n",
       "<table border=\"1\" class=\"dataframe\">\n",
       "  <thead>\n",
       "    <tr style=\"text-align: right;\">\n",
       "      <th></th>\n",
       "      <th>user_id</th>\n",
       "      <th>item_id</th>\n",
       "      <th>posted</th>\n",
       "      <th>recommend</th>\n",
       "      <th>polarity</th>\n",
       "      <th>sentiment</th>\n",
       "    </tr>\n",
       "  </thead>\n",
       "  <tbody>\n",
       "    <tr>\n",
       "      <th>0</th>\n",
       "      <td>76561197970982479</td>\n",
       "      <td>1250.0</td>\n",
       "      <td>2011</td>\n",
       "      <td>True</td>\n",
       "      <td>0.174444</td>\n",
       "      <td>2</td>\n",
       "    </tr>\n",
       "    <tr>\n",
       "      <th>1</th>\n",
       "      <td>76561197970982479</td>\n",
       "      <td>22200.0</td>\n",
       "      <td>2011</td>\n",
       "      <td>True</td>\n",
       "      <td>0.337500</td>\n",
       "      <td>2</td>\n",
       "    </tr>\n",
       "    <tr>\n",
       "      <th>2</th>\n",
       "      <td>76561197970982479</td>\n",
       "      <td>43110.0</td>\n",
       "      <td>2011</td>\n",
       "      <td>True</td>\n",
       "      <td>0.050000</td>\n",
       "      <td>2</td>\n",
       "    </tr>\n",
       "    <tr>\n",
       "      <th>3</th>\n",
       "      <td>js41637</td>\n",
       "      <td>251610.0</td>\n",
       "      <td>2014</td>\n",
       "      <td>True</td>\n",
       "      <td>0.114583</td>\n",
       "      <td>2</td>\n",
       "    </tr>\n",
       "    <tr>\n",
       "      <th>4</th>\n",
       "      <td>js41637</td>\n",
       "      <td>227300.0</td>\n",
       "      <td>2013</td>\n",
       "      <td>True</td>\n",
       "      <td>-0.036111</td>\n",
       "      <td>0</td>\n",
       "    </tr>\n",
       "    <tr>\n",
       "      <th>...</th>\n",
       "      <td>...</td>\n",
       "      <td>...</td>\n",
       "      <td>...</td>\n",
       "      <td>...</td>\n",
       "      <td>...</td>\n",
       "      <td>...</td>\n",
       "    </tr>\n",
       "    <tr>\n",
       "      <th>59280</th>\n",
       "      <td>wayfeng</td>\n",
       "      <td>730.0</td>\n",
       "      <td>2015</td>\n",
       "      <td>True</td>\n",
       "      <td>0.000000</td>\n",
       "      <td>1</td>\n",
       "    </tr>\n",
       "    <tr>\n",
       "      <th>59283</th>\n",
       "      <td>76561198251004808</td>\n",
       "      <td>253980.0</td>\n",
       "      <td>2015</td>\n",
       "      <td>True</td>\n",
       "      <td>0.300000</td>\n",
       "      <td>2</td>\n",
       "    </tr>\n",
       "    <tr>\n",
       "      <th>59293</th>\n",
       "      <td>72947282842</td>\n",
       "      <td>730.0</td>\n",
       "      <td>2015</td>\n",
       "      <td>True</td>\n",
       "      <td>-0.512500</td>\n",
       "      <td>0</td>\n",
       "    </tr>\n",
       "    <tr>\n",
       "      <th>59295</th>\n",
       "      <td>ApxLGhost</td>\n",
       "      <td>730.0</td>\n",
       "      <td>2015</td>\n",
       "      <td>True</td>\n",
       "      <td>0.100000</td>\n",
       "      <td>2</td>\n",
       "    </tr>\n",
       "    <tr>\n",
       "      <th>59304</th>\n",
       "      <td>76561198267374962</td>\n",
       "      <td>369200.0</td>\n",
       "      <td>2015</td>\n",
       "      <td>True</td>\n",
       "      <td>0.500000</td>\n",
       "      <td>2</td>\n",
       "    </tr>\n",
       "  </tbody>\n",
       "</table>\n",
       "<p>48471 rows × 6 columns</p>\n",
       "</div>"
      ],
      "text/plain": [
       "                 user_id   item_id  posted recommend  polarity  sentiment\n",
       "0      76561197970982479    1250.0    2011      True  0.174444          2\n",
       "1      76561197970982479   22200.0    2011      True  0.337500          2\n",
       "2      76561197970982479   43110.0    2011      True  0.050000          2\n",
       "3                js41637  251610.0    2014      True  0.114583          2\n",
       "4                js41637  227300.0    2013      True -0.036111          0\n",
       "...                  ...       ...     ...       ...       ...        ...\n",
       "59280            wayfeng     730.0    2015      True  0.000000          1\n",
       "59283  76561198251004808  253980.0    2015      True  0.300000          2\n",
       "59293        72947282842     730.0    2015      True -0.512500          0\n",
       "59295          ApxLGhost     730.0    2015      True  0.100000          2\n",
       "59304  76561198267374962  369200.0    2015      True  0.500000          2\n",
       "\n",
       "[48471 rows x 6 columns]"
      ]
     },
     "execution_count": 35,
     "metadata": {},
     "output_type": "execute_result"
    }
   ],
   "source": [
    "df_user_reviews"
   ]
  },
  {
   "cell_type": "code",
   "execution_count": 45,
   "id": "274fd186-869a-4d32-8ba1-92aa29b61ff3",
   "metadata": {
    "tags": []
   },
   "outputs": [],
   "source": [
    "df_user_reviews.to_csv('EDA_user_review.csv', index = False)"
   ]
  },
  {
   "cell_type": "markdown",
   "id": "32c18ec6-e1b0-486f-b148-4a87670f3f38",
   "metadata": {},
   "source": [
    "DataFrame User Items"
   ]
  },
  {
   "cell_type": "markdown",
   "id": "5a58b9ca-52eb-4595-a757-febc97dde0ad",
   "metadata": {},
   "source": [
    "Cargo la base de datos y reviso el tipo de cada columna de los dataset. Realizo conversiones de tipos de datos."
   ]
  },
  {
   "cell_type": "code",
   "execution_count": 36,
   "id": "0723f849-cc9d-4ae6-80d2-3e736bd88340",
   "metadata": {
    "tags": []
   },
   "outputs": [],
   "source": [
    "df_user_items = pd.read_csv('user_items_2.csv')"
   ]
  },
  {
   "cell_type": "markdown",
   "id": "0eedcdbc-bd5b-4bb8-9f83-2d5b2597086c",
   "metadata": {},
   "source": [
    "Elimino Nulos y duplicados"
   ]
  },
  {
   "cell_type": "code",
   "execution_count": 38,
   "id": "85ce4e96-cdbc-4915-8689-c104ee7ae882",
   "metadata": {
    "tags": []
   },
   "outputs": [],
   "source": [
    "df_user_items.dropna(subset= ['user_id'], inplace=True)"
   ]
  },
  {
   "cell_type": "code",
   "execution_count": 39,
   "id": "d0204593-c5d2-4b8a-af14-4e25c42cde77",
   "metadata": {
    "tags": []
   },
   "outputs": [],
   "source": [
    "df_user_items.drop_duplicates(inplace=True)"
   ]
  },
  {
   "cell_type": "markdown",
   "id": "352913c8-82c1-4a66-ab75-c79c8845a4fc",
   "metadata": {},
   "source": [
    "Elimino variables si es que consideran irrelevantes, sustentando adecuadamente por qué."
   ]
  },
  {
   "cell_type": "code",
   "execution_count": 40,
   "id": "c140c08e-228a-4722-a5f6-0b1c3002221c",
   "metadata": {
    "tags": []
   },
   "outputs": [],
   "source": [
    "#Una parte ya realizado al abrir y preparar el json\n",
    "df_user_items = df_user_items.drop('playtime_2weeks',axis=1) #'''No lo usare para el sistema de recomendacion'''\n"
   ]
  },
  {
   "cell_type": "code",
   "execution_count": 41,
   "id": "ceda7f27-65b2-4f75-a72e-de34e22178d2",
   "metadata": {
    "tags": []
   },
   "outputs": [
    {
     "name": "stdout",
     "output_type": "stream",
     "text": [
      "item_id             0\n",
      "item_name           0\n",
      "playtime_forever    0\n",
      "user_id             0\n",
      "dtype: int64\n"
     ]
    }
   ],
   "source": [
    "print(df_user_items.isna().sum())\n"
   ]
  },
  {
   "cell_type": "code",
   "execution_count": 42,
   "id": "c58253e0-a171-407f-a737-7d3acdbb3b96",
   "metadata": {
    "tags": []
   },
   "outputs": [],
   "source": [
    "df_user_items = df_user_items.sort_values(by='user_id')"
   ]
  },
  {
   "cell_type": "code",
   "execution_count": 43,
   "id": "8b2972e4-a195-480c-86f7-be665449b44d",
   "metadata": {
    "tags": []
   },
   "outputs": [
    {
     "data": {
      "text/html": [
       "<div>\n",
       "<style scoped>\n",
       "    .dataframe tbody tr th:only-of-type {\n",
       "        vertical-align: middle;\n",
       "    }\n",
       "\n",
       "    .dataframe tbody tr th {\n",
       "        vertical-align: top;\n",
       "    }\n",
       "\n",
       "    .dataframe thead th {\n",
       "        text-align: right;\n",
       "    }\n",
       "</style>\n",
       "<table border=\"1\" class=\"dataframe\">\n",
       "  <thead>\n",
       "    <tr style=\"text-align: right;\">\n",
       "      <th></th>\n",
       "      <th>item_id</th>\n",
       "      <th>item_name</th>\n",
       "      <th>playtime_forever</th>\n",
       "      <th>user_id</th>\n",
       "    </tr>\n",
       "  </thead>\n",
       "  <tbody>\n",
       "    <tr>\n",
       "      <th>1808413</th>\n",
       "      <td>200210</td>\n",
       "      <td>Realm of the Mad God</td>\n",
       "      <td>166</td>\n",
       "      <td>--000--</td>\n",
       "    </tr>\n",
       "    <tr>\n",
       "      <th>1808427</th>\n",
       "      <td>263760</td>\n",
       "      <td>Turbo Dismount</td>\n",
       "      <td>244</td>\n",
       "      <td>--000--</td>\n",
       "    </tr>\n",
       "    <tr>\n",
       "      <th>1808426</th>\n",
       "      <td>233190</td>\n",
       "      <td>Final Exam</td>\n",
       "      <td>193</td>\n",
       "      <td>--000--</td>\n",
       "    </tr>\n",
       "    <tr>\n",
       "      <th>1808425</th>\n",
       "      <td>218620</td>\n",
       "      <td>PAYDAY 2</td>\n",
       "      <td>416</td>\n",
       "      <td>--000--</td>\n",
       "    </tr>\n",
       "    <tr>\n",
       "      <th>1808424</th>\n",
       "      <td>225640</td>\n",
       "      <td>Sacred 2 Gold</td>\n",
       "      <td>5</td>\n",
       "      <td>--000--</td>\n",
       "    </tr>\n",
       "    <tr>\n",
       "      <th>...</th>\n",
       "      <td>...</td>\n",
       "      <td>...</td>\n",
       "      <td>...</td>\n",
       "      <td>...</td>\n",
       "    </tr>\n",
       "    <tr>\n",
       "      <th>4431652</th>\n",
       "      <td>17080</td>\n",
       "      <td>Tribes: Ascend</td>\n",
       "      <td>475</td>\n",
       "      <td>zzzmidmiss</td>\n",
       "    </tr>\n",
       "    <tr>\n",
       "      <th>4431653</th>\n",
       "      <td>105430</td>\n",
       "      <td>Age of Empires Online</td>\n",
       "      <td>358</td>\n",
       "      <td>zzzmidmiss</td>\n",
       "    </tr>\n",
       "    <tr>\n",
       "      <th>4431654</th>\n",
       "      <td>113400</td>\n",
       "      <td>APB Reloaded</td>\n",
       "      <td>16</td>\n",
       "      <td>zzzmidmiss</td>\n",
       "    </tr>\n",
       "    <tr>\n",
       "      <th>4431640</th>\n",
       "      <td>200390</td>\n",
       "      <td>Oil Rush</td>\n",
       "      <td>45</td>\n",
       "      <td>zzzmidmiss</td>\n",
       "    </tr>\n",
       "    <tr>\n",
       "      <th>4431638</th>\n",
       "      <td>202750</td>\n",
       "      <td>Alan Wake's American Nightmare</td>\n",
       "      <td>3</td>\n",
       "      <td>zzzmidmiss</td>\n",
       "    </tr>\n",
       "  </tbody>\n",
       "</table>\n",
       "<p>5094105 rows × 4 columns</p>\n",
       "</div>"
      ],
      "text/plain": [
       "         item_id                       item_name  playtime_forever     user_id\n",
       "1808413   200210            Realm of the Mad God               166     --000--\n",
       "1808427   263760                  Turbo Dismount               244     --000--\n",
       "1808426   233190                      Final Exam               193     --000--\n",
       "1808425   218620                        PAYDAY 2               416     --000--\n",
       "1808424   225640                   Sacred 2 Gold                 5     --000--\n",
       "...          ...                             ...               ...         ...\n",
       "4431652    17080                  Tribes: Ascend               475  zzzmidmiss\n",
       "4431653   105430           Age of Empires Online               358  zzzmidmiss\n",
       "4431654   113400                    APB Reloaded                16  zzzmidmiss\n",
       "4431640   200390                        Oil Rush                45  zzzmidmiss\n",
       "4431638   202750  Alan Wake's American Nightmare                 3  zzzmidmiss\n",
       "\n",
       "[5094105 rows x 4 columns]"
      ]
     },
     "execution_count": 43,
     "metadata": {},
     "output_type": "execute_result"
    }
   ],
   "source": [
    "df_user_items"
   ]
  },
  {
   "cell_type": "code",
   "execution_count": 46,
   "id": "f7c1f7f8-47a7-473c-bb5f-3c32d9e4d79a",
   "metadata": {
    "tags": []
   },
   "outputs": [],
   "source": [
    "df_user_items.to_csv('EDA_user_item.csv', index = False)"
   ]
  },
  {
   "cell_type": "markdown",
   "id": "07789488-a901-4b8d-9b80-e2d15f5cd752",
   "metadata": {},
   "source": [
    "Reviso la distribución estadística para el caso de las variables numéricas. ¿Qué gráficos permiten realizar un estudio exploratorio de la distribución? ¿Hay datos atípicos?\n",
    "\n",
    "    df_steam_games['price'], ['release_date']\n",
    "    df_user_reviews['posted'],  ['sentiment'], ['polarity'](este ultimo no lo uso)\n",
    "    df_user_items ['playtime_forever']\n",
    "    \n",
    "\n"
   ]
  },
  {
   "cell_type": "code",
   "execution_count": 49,
   "id": "4ce84490-c5a5-4011-a88f-39b9649886af",
   "metadata": {
    "tags": []
   },
   "outputs": [],
   "source": [
    "df_EDA_steam = pd.read_csv('EDA_steam_game.csv')"
   ]
  },
  {
   "cell_type": "markdown",
   "id": "1faf0907-780a-4a38-9388-96bbab80bfd3",
   "metadata": {},
   "source": [
    "Precio"
   ]
  },
  {
   "cell_type": "code",
   "execution_count": 52,
   "id": "a53cda94-35c8-49ac-970b-f0fef7790eb2",
   "metadata": {
    "tags": []
   },
   "outputs": [
    {
     "data": {
      "text/plain": [
       "9.99      281035\n",
       "4.99      222426\n",
       "14.99     176084\n",
       "19.99     158296\n",
       "2.99      145068\n",
       "           ...  \n",
       "199.0          2\n",
       "234.99         1\n",
       "4.29           1\n",
       "124.99         1\n",
       "99.0           1\n",
       "Name: price, Length: 150, dtype: int64"
      ]
     },
     "execution_count": 52,
     "metadata": {},
     "output_type": "execute_result"
    }
   ],
   "source": [
    "df_EDA_steam['price'].value_counts()"
   ]
  },
  {
   "cell_type": "code",
   "execution_count": 53,
   "id": "a55c16b5-8942-4999-97ce-3c0277909547",
   "metadata": {
    "tags": []
   },
   "outputs": [
    {
     "data": {
      "text/plain": [
       "count     1924632\n",
       "unique        150\n",
       "top          9.99\n",
       "freq       281035\n",
       "Name: price, dtype: object"
      ]
     },
     "execution_count": 53,
     "metadata": {},
     "output_type": "execute_result"
    }
   ],
   "source": [
    "df_EDA_steam['price'].describe()"
   ]
  },
  {
   "cell_type": "code",
   "execution_count": 54,
   "id": "d2ef1f33-2ca8-4868-b07d-4561ab9c368a",
   "metadata": {
    "tags": []
   },
   "outputs": [],
   "source": [
    "#como hay valores escritos str, los llevare a 0, entiendiendo que son versiones gratuitas.\n",
    "\n",
    "df_EDA_steam.loc[df_EDA_steam['price'] == 'Free To Play', 'price'] = 0\n",
    "# Lista de valores a reemplazar\n",
    "values_to_replace = ['Free Demo', 'Play for Free!', 'Free','Install Theme', 'Install Now', 'Free Mod', 'Install Theme', 'Third-party', 'Play Now', 'Free HITMAN™ Holiday Pack', 'Play the Demo', 'Free to Try', 'Free to Use']\n",
    "\n",
    "# Cambiar los valores en la columna 'price' por 0\n",
    "df_EDA_steam['price'].replace(values_to_replace, 0, inplace=True)\n",
    "\n"
   ]
  },
  {
   "cell_type": "code",
   "execution_count": 55,
   "id": "9808c1c8-32ba-4620-9817-590afd0b2c30",
   "metadata": {
    "tags": []
   },
   "outputs": [],
   "source": [
    "df_EDA_steam.loc[df_EDA_steam['price'] == 'Play WARMACHINE: Tactics Demo', 'price'] = 0"
   ]
  },
  {
   "cell_type": "code",
   "execution_count": 56,
   "id": "9a89d274-6ae8-4668-a315-919f8e7b907a",
   "metadata": {
    "tags": []
   },
   "outputs": [
    {
     "data": {
      "text/plain": [
       "array(['4.99', 0, 'Free to Play', '0.99', '3.99', '9.99', '18.99',\n",
       "       '29.99', '10.99', '2.99', '1.59', '14.99', '1.99', '59.99', '8.99',\n",
       "       '6.99', '7.99', '39.99', '19.99', '7.49', '12.99', '5.99', '2.49',\n",
       "       '15.99', '1.25', '24.99', '17.99', '61.99', '3.49', '11.99',\n",
       "       '13.99', '34.99', '1.49', '32.99', '99.99', '14.95', '69.99',\n",
       "       '16.99', '79.99', '49.99', '5.0', '13.98', '29.96', '119.99',\n",
       "       '109.99', '149.99', '771.71', '21.99', '89.99', '0.98', '139.92',\n",
       "       '4.29', '54.99', '64.99', '74.99', '0.89', '0.5', '299.99', '1.29',\n",
       "       '44.99', '3.0', '15.0', '5.49', '23.99', '49.0', '10.93', '1.39',\n",
       "       '36.99', '4.49', '2.0', '4.0', '234.99', '1.95', '1.5', '199.0',\n",
       "       '189.0', '6.66', '27.99', '129.99', '179.0', '26.99', '399.99',\n",
       "       '31.99', '399.0', '20.0', '40.0', '3.33', '22.99', '320.0',\n",
       "       '38.85', '71.7', '995.0', '27.49', '3.39', '6.0', '19.95', '20.99',\n",
       "       '499.99', '199.99', '16.06', '4.68', '131.4', '44.98', '202.76',\n",
       "       '2.3', '0.95', '172.24', '249.99', '2.97', '10.96', '10.0', '30.0',\n",
       "       '2.66', '6.48', '1.0', '11.15', '99.0', '87.94', '0.49', '9.98',\n",
       "       '9.95', '7.0', '12.89', '6.49', '1.87', '42.99', '41.99', '289.99',\n",
       "       '23.96', '5.65', '12.0', '59.95', '13.37', '189.96', '124.99',\n",
       "       '19.98', '160.91'], dtype=object)"
      ]
     },
     "execution_count": 56,
     "metadata": {},
     "output_type": "execute_result"
    }
   ],
   "source": [
    "df_EDA_steam['price'].unique()"
   ]
  },
  {
   "cell_type": "code",
   "execution_count": 58,
   "id": "4c960b19-23f6-4699-98a8-81dd9905cddb",
   "metadata": {
    "tags": []
   },
   "outputs": [],
   "source": [
    "df_EDA_steam['price'] = pd.to_numeric(df_EDA_steam['price'], errors='coerce')\n",
    "df_EDA_steam['price'] = df_EDA_steam['price'].astype(float)"
   ]
  },
  {
   "cell_type": "code",
   "execution_count": 59,
   "id": "a2ffe2f7-0786-4b0a-a98b-0bc1bc21891f",
   "metadata": {
    "tags": []
   },
   "outputs": [
    {
     "name": "stdout",
     "output_type": "stream",
     "text": [
      "9.99      281035\n",
      "4.99      222426\n",
      "14.99     176084\n",
      "19.99     158296\n",
      "2.99      145068\n",
      "           ...  \n",
      "199.00         2\n",
      "234.99         1\n",
      "4.29           1\n",
      "124.99         1\n",
      "99.00          1\n",
      "Name: price, Length: 136, dtype: int64\n",
      "9.99     281035\n",
      "4.99     222426\n",
      "14.99    176084\n",
      "19.99    158296\n",
      "2.99     145068\n",
      "1.99     113060\n",
      "0.99     106992\n",
      "0.00     101208\n",
      "3.99      76527\n",
      "7.99      66934\n",
      "Name: price, dtype: int64\n"
     ]
    }
   ],
   "source": [
    "# Usar value_counts para contar la frecuencia de cada valor único en 'column_name'\n",
    "value_counts =df_EDA_steam['price'].value_counts()\n",
    "\n",
    "# Imprimir el resultado\n",
    "print(value_counts)\n",
    "print(value_counts.head(10))"
   ]
  },
  {
   "cell_type": "code",
   "execution_count": 60,
   "id": "1ad2f164-aeb1-49fe-ba03-d02ed933bb8a",
   "metadata": {
    "tags": []
   },
   "outputs": [
    {
     "name": "stdout",
     "output_type": "stream",
     "text": [
      "Primer cuartil (Q1): 2.99\n",
      "Mediana (Q2): 7.99\n",
      "Tercer cuartil (Q3): 14.99\n"
     ]
    }
   ],
   "source": [
    "# Calcular el primer cuartil (Q1)\n",
    "q1 = df_EDA_steam['price'].quantile(0.25)\n",
    "\n",
    "# Calcular la mediana (Q2)\n",
    "q2 = df_EDA_steam['price'].quantile(0.5)\n",
    "\n",
    "# Calcular el tercer cuartil (Q3)\n",
    "q3 = df_EDA_steam['price'].quantile(0.75)\n",
    "\n",
    "print(\"Primer cuartil (Q1):\", q1)\n",
    "print(\"Mediana (Q2):\", q2)\n",
    "print(\"Tercer cuartil (Q3):\", q3)"
   ]
  },
  {
   "cell_type": "code",
   "execution_count": 61,
   "id": "66e21734-e926-4700-85af-6349eee0af6a",
   "metadata": {
    "tags": []
   },
   "outputs": [
    {
     "name": "stdout",
     "output_type": "stream",
     "text": [
      "Valores atípicos:\n",
      "[ 59.99  39.99  61.99  34.99  99.99  69.99  79.99  49.99 119.99 109.99\n",
      " 149.99 771.71  89.99 139.92  54.99  64.99  74.99 299.99  44.99  49.\n",
      "  36.99 234.99 199.   189.   129.99 179.   399.99 399.    40.   320.\n",
      "  38.85  71.7  995.   499.99 199.99 131.4   44.98 202.76 172.24 249.99\n",
      "  99.    87.94  42.99  41.99 289.99  59.95 189.96 124.99 160.91]\n"
     ]
    }
   ],
   "source": [
    "#outliers\n",
    "# Calcular el primer cuartil (Q1) y el tercer cuartil (Q3)\n",
    "Q1 = df_EDA_steam['price'].quantile(0.25)\n",
    "Q3 = df_EDA_steam['price'].quantile(0.75)\n",
    "\n",
    "# Calcular el rango intercuartílico (IQR)\n",
    "IQR = Q3 - Q1\n",
    "\n",
    "# Calcular los límites para los valores atípicos\n",
    "lower_limit = Q1 - 1.5 * IQR\n",
    "upper_limit = Q3 + 1.5 * IQR\n",
    "\n",
    "# Identificar los valores atípicos\n",
    "outliers = df_EDA_steam[(df_EDA_steam['price'] < lower_limit) | (df_EDA_steam['price'] > upper_limit)]\n",
    "\n",
    "# Imprimir los valores atípicos\n",
    "print(\"Valores atípicos:\")\n",
    "print(outliers['price'].unique())\n",
    "#En este código, identificamos los valores atípicos en la columna especificada ('column_name') y los almacenamos en el DataFrame 'outliers'. Puedes ajustar el factor multiplicativo (1.5) en los límites según tus criterios para definir qué se considera un valor atípico."
   ]
  },
  {
   "cell_type": "code",
   "execution_count": 62,
   "id": "7dd1cd6b-08fb-4b1e-a023-36dc99f22e97",
   "metadata": {
    "tags": []
   },
   "outputs": [
    {
     "data": {
      "text/html": [
       "<div>\n",
       "<style scoped>\n",
       "    .dataframe tbody tr th:only-of-type {\n",
       "        vertical-align: middle;\n",
       "    }\n",
       "\n",
       "    .dataframe tbody tr th {\n",
       "        vertical-align: top;\n",
       "    }\n",
       "\n",
       "    .dataframe thead th {\n",
       "        text-align: right;\n",
       "    }\n",
       "</style>\n",
       "<table border=\"1\" class=\"dataframe\">\n",
       "  <thead>\n",
       "    <tr style=\"text-align: right;\">\n",
       "      <th></th>\n",
       "      <th>Unnamed: 0</th>\n",
       "      <th>app_name</th>\n",
       "      <th>price</th>\n",
       "      <th>early_access</th>\n",
       "      <th>id</th>\n",
       "      <th>developer</th>\n",
       "      <th>release_year</th>\n",
       "      <th>tag</th>\n",
       "      <th>spec</th>\n",
       "      <th>price_range</th>\n",
       "    </tr>\n",
       "  </thead>\n",
       "  <tbody>\n",
       "    <tr>\n",
       "      <th>0</th>\n",
       "      <td>88310</td>\n",
       "      <td>Lost Summoner Kitty</td>\n",
       "      <td>4.99</td>\n",
       "      <td>False</td>\n",
       "      <td>761140.0</td>\n",
       "      <td>Kotoshiro</td>\n",
       "      <td>2018.0</td>\n",
       "      <td>Strategy</td>\n",
       "      <td>Single-player</td>\n",
       "      <td>2</td>\n",
       "    </tr>\n",
       "    <tr>\n",
       "      <th>1</th>\n",
       "      <td>88310</td>\n",
       "      <td>Lost Summoner Kitty</td>\n",
       "      <td>4.99</td>\n",
       "      <td>False</td>\n",
       "      <td>761140.0</td>\n",
       "      <td>Kotoshiro</td>\n",
       "      <td>2018.0</td>\n",
       "      <td>Action</td>\n",
       "      <td>Single-player</td>\n",
       "      <td>2</td>\n",
       "    </tr>\n",
       "    <tr>\n",
       "      <th>2</th>\n",
       "      <td>88310</td>\n",
       "      <td>Lost Summoner Kitty</td>\n",
       "      <td>4.99</td>\n",
       "      <td>False</td>\n",
       "      <td>761140.0</td>\n",
       "      <td>Kotoshiro</td>\n",
       "      <td>2018.0</td>\n",
       "      <td>Indie</td>\n",
       "      <td>Single-player</td>\n",
       "      <td>2</td>\n",
       "    </tr>\n",
       "    <tr>\n",
       "      <th>3</th>\n",
       "      <td>88310</td>\n",
       "      <td>Lost Summoner Kitty</td>\n",
       "      <td>4.99</td>\n",
       "      <td>False</td>\n",
       "      <td>761140.0</td>\n",
       "      <td>Kotoshiro</td>\n",
       "      <td>2018.0</td>\n",
       "      <td>Casual</td>\n",
       "      <td>Single-player</td>\n",
       "      <td>2</td>\n",
       "    </tr>\n",
       "    <tr>\n",
       "      <th>4</th>\n",
       "      <td>88310</td>\n",
       "      <td>Lost Summoner Kitty</td>\n",
       "      <td>4.99</td>\n",
       "      <td>False</td>\n",
       "      <td>761140.0</td>\n",
       "      <td>Kotoshiro</td>\n",
       "      <td>2018.0</td>\n",
       "      <td>Simulation</td>\n",
       "      <td>Single-player</td>\n",
       "      <td>2</td>\n",
       "    </tr>\n",
       "    <tr>\n",
       "      <th>...</th>\n",
       "      <td>...</td>\n",
       "      <td>...</td>\n",
       "      <td>...</td>\n",
       "      <td>...</td>\n",
       "      <td>...</td>\n",
       "      <td>...</td>\n",
       "      <td>...</td>\n",
       "      <td>...</td>\n",
       "      <td>...</td>\n",
       "      <td>...</td>\n",
       "    </tr>\n",
       "    <tr>\n",
       "      <th>1924627</th>\n",
       "      <td>120443</td>\n",
       "      <td>EXIT 2 - Directions</td>\n",
       "      <td>4.99</td>\n",
       "      <td>False</td>\n",
       "      <td>658870.0</td>\n",
       "      <td>xropi,stev3ns</td>\n",
       "      <td>2017.0</td>\n",
       "      <td>Atmospheric</td>\n",
       "      <td>Steam Achievements</td>\n",
       "      <td>2</td>\n",
       "    </tr>\n",
       "    <tr>\n",
       "      <th>1924628</th>\n",
       "      <td>120443</td>\n",
       "      <td>EXIT 2 - Directions</td>\n",
       "      <td>4.99</td>\n",
       "      <td>False</td>\n",
       "      <td>658870.0</td>\n",
       "      <td>xropi,stev3ns</td>\n",
       "      <td>2017.0</td>\n",
       "      <td>Atmospheric</td>\n",
       "      <td>Steam Cloud</td>\n",
       "      <td>2</td>\n",
       "    </tr>\n",
       "    <tr>\n",
       "      <th>1924629</th>\n",
       "      <td>120443</td>\n",
       "      <td>EXIT 2 - Directions</td>\n",
       "      <td>4.99</td>\n",
       "      <td>False</td>\n",
       "      <td>658870.0</td>\n",
       "      <td>xropi,stev3ns</td>\n",
       "      <td>2017.0</td>\n",
       "      <td>Relaxing</td>\n",
       "      <td>Single-player</td>\n",
       "      <td>2</td>\n",
       "    </tr>\n",
       "    <tr>\n",
       "      <th>1924630</th>\n",
       "      <td>120443</td>\n",
       "      <td>EXIT 2 - Directions</td>\n",
       "      <td>4.99</td>\n",
       "      <td>False</td>\n",
       "      <td>658870.0</td>\n",
       "      <td>xropi,stev3ns</td>\n",
       "      <td>2017.0</td>\n",
       "      <td>Relaxing</td>\n",
       "      <td>Steam Achievements</td>\n",
       "      <td>2</td>\n",
       "    </tr>\n",
       "    <tr>\n",
       "      <th>1924631</th>\n",
       "      <td>120443</td>\n",
       "      <td>EXIT 2 - Directions</td>\n",
       "      <td>4.99</td>\n",
       "      <td>False</td>\n",
       "      <td>658870.0</td>\n",
       "      <td>xropi,stev3ns</td>\n",
       "      <td>2017.0</td>\n",
       "      <td>Relaxing</td>\n",
       "      <td>Steam Cloud</td>\n",
       "      <td>2</td>\n",
       "    </tr>\n",
       "  </tbody>\n",
       "</table>\n",
       "<p>1924632 rows × 10 columns</p>\n",
       "</div>"
      ],
      "text/plain": [
       "         Unnamed: 0             app_name  price  early_access        id  \\\n",
       "0             88310  Lost Summoner Kitty   4.99         False  761140.0   \n",
       "1             88310  Lost Summoner Kitty   4.99         False  761140.0   \n",
       "2             88310  Lost Summoner Kitty   4.99         False  761140.0   \n",
       "3             88310  Lost Summoner Kitty   4.99         False  761140.0   \n",
       "4             88310  Lost Summoner Kitty   4.99         False  761140.0   \n",
       "...             ...                  ...    ...           ...       ...   \n",
       "1924627      120443  EXIT 2 - Directions   4.99         False  658870.0   \n",
       "1924628      120443  EXIT 2 - Directions   4.99         False  658870.0   \n",
       "1924629      120443  EXIT 2 - Directions   4.99         False  658870.0   \n",
       "1924630      120443  EXIT 2 - Directions   4.99         False  658870.0   \n",
       "1924631      120443  EXIT 2 - Directions   4.99         False  658870.0   \n",
       "\n",
       "             developer  release_year          tag                spec  \\\n",
       "0            Kotoshiro        2018.0     Strategy       Single-player   \n",
       "1            Kotoshiro        2018.0       Action       Single-player   \n",
       "2            Kotoshiro        2018.0        Indie       Single-player   \n",
       "3            Kotoshiro        2018.0       Casual       Single-player   \n",
       "4            Kotoshiro        2018.0   Simulation       Single-player   \n",
       "...                ...           ...          ...                 ...   \n",
       "1924627  xropi,stev3ns        2017.0  Atmospheric  Steam Achievements   \n",
       "1924628  xropi,stev3ns        2017.0  Atmospheric         Steam Cloud   \n",
       "1924629  xropi,stev3ns        2017.0     Relaxing       Single-player   \n",
       "1924630  xropi,stev3ns        2017.0     Relaxing  Steam Achievements   \n",
       "1924631  xropi,stev3ns        2017.0     Relaxing         Steam Cloud   \n",
       "\n",
       "         price_range  \n",
       "0                  2  \n",
       "1                  2  \n",
       "2                  2  \n",
       "3                  2  \n",
       "4                  2  \n",
       "...              ...  \n",
       "1924627            2  \n",
       "1924628            2  \n",
       "1924629            2  \n",
       "1924630            2  \n",
       "1924631            2  \n",
       "\n",
       "[1924632 rows x 10 columns]"
      ]
     },
     "execution_count": 62,
     "metadata": {},
     "output_type": "execute_result"
    }
   ],
   "source": [
    "\n",
    "\n",
    "# Define una función para mapear los rangos\n",
    "def asignar_rango(precio):\n",
    "    if precio == 0:\n",
    "        return 0\n",
    "    elif 0 < precio < 3:\n",
    "        return 1\n",
    "    elif 3 <= precio < 7:\n",
    "        return 2\n",
    "    elif 7 <= precio < 15:\n",
    "        return 3\n",
    "    elif 15 <= precio < 30:\n",
    "        return 4\n",
    "    elif 30 <= precio < 60:\n",
    "        return 5\n",
    "    else:\n",
    "        return 6\n",
    "\n",
    "# Aplica la función a la columna 'price' y crea una nueva columna 'price_range'\n",
    "df_EDA_steam['price_range'] = df_EDA_steam['price'].apply(asignar_rango)\n",
    "\n",
    "df_EDA_steam"
   ]
  },
  {
   "cell_type": "code",
   "execution_count": 63,
   "id": "a47cbcbd-5066-49ed-8256-f3820615a6b4",
   "metadata": {
    "tags": []
   },
   "outputs": [
    {
     "data": {
      "image/png": "[encoded data removed]",
      "text/plain": [
       "<Figure size 800x600 with 1 Axes>"
      ]
     },
     "metadata": {},
     "output_type": "display_data"
    },
    {
     "data": {
      "text/plain": [
       "'Rango 0: Gratuito\\nRango 1: Precio mayor a 0 y menor a 3\\nRango 2: Precio mayor o igual a 3 y menor a 7\\nRango 3: Precio mayor o igual a 7 y menor a 15\\nRango 4: Precio mayor o igual a 15 y menor a 30\\nRango 5: Precio mayor o igual a 30 y menor a 60\\nRango 6: Precio mayor a 60'"
      ]
     },
     "execution_count": 63,
     "metadata": {},
     "output_type": "execute_result"
    }
   ],
   "source": [
    "\n",
    "plt.figure(figsize=(8, 6))  # Tamaño de la figura\n",
    "\n",
    "# Crear un histograma de la columna 'price_range'\n",
    "plt.hist(df_EDA_steam['price_range'], bins=[0, 1, 2, 3, 4, 5, 6, 7], rwidth=0.8, align='left')\n",
    "\n",
    "# Configuración de etiquetas y título\n",
    "plt.xlabel('Rango de Precios')\n",
    "plt.ylabel('Frecuencia')\n",
    "plt.title('Histograma de Rangos de Precios')\n",
    "\n",
    "# Etiquetas de los ticks en el eje x\n",
    "plt.xticks(range(7), ['0', '1', '2', '3', '4', '5', '6'])\n",
    "\n",
    "# Mostrar el gráfico\n",
    "plt.show()\n",
    "\n",
    "'''Rango 0: Gratuito\n",
    "Rango 1: Precio mayor a 0 y menor a 3\n",
    "Rango 2: Precio mayor o igual a 3 y menor a 7\n",
    "Rango 3: Precio mayor o igual a 7 y menor a 15\n",
    "Rango 4: Precio mayor o igual a 15 y menor a 30\n",
    "Rango 5: Precio mayor o igual a 30 y menor a 60\n",
    "Rango 6: Precio mayor a 60'''"
   ]
  },
  {
   "cell_type": "markdown",
   "id": "665587c9-1177-4e27-b9c4-0c3adde1f1c6",
   "metadata": {},
   "source": [
    "Año de Lanzamiento Release Year"
   ]
  },
  {
   "cell_type": "code",
   "execution_count": 67,
   "id": "13fe3722-b033-4cb2-8a14-dabe5b47859c",
   "metadata": {
    "tags": []
   },
   "outputs": [
    {
     "data": {
      "text/plain": [
       "2017.0    613281\n",
       "2016.0    505553\n",
       "2015.0    352152\n",
       "2014.0    202161\n",
       "2013.0     96987\n",
       "2012.0     55408\n",
       "2011.0     32482\n",
       "2010.0     17350\n",
       "2009.0     10811\n",
       "2008.0      5598\n",
       "2007.0      5531\n",
       "2006.0      4522\n",
       "2018.0      4359\n",
       "2003.0      3146\n",
       "2005.0      3080\n",
       "2001.0      2172\n",
       "2004.0      1705\n",
       "1997.0      1297\n",
       "1999.0      1217\n",
       "2002.0      1068\n",
       "1998.0       911\n",
       "1996.0       648\n",
       "2000.0       608\n",
       "1994.0       575\n",
       "1995.0       516\n",
       "1993.0       355\n",
       "1992.0       251\n",
       "1988.0       163\n",
       "1991.0       132\n",
       "1984.0       126\n",
       "1983.0       108\n",
       "1986.0        90\n",
       "1990.0        78\n",
       "1989.0        73\n",
       "2019.0        72\n",
       "1987.0        26\n",
       "2021.0        18\n",
       "1985.0         2\n",
       "Name: release_year, dtype: int64"
      ]
     },
     "execution_count": 67,
     "metadata": {},
     "output_type": "execute_result"
    }
   ],
   "source": [
    "df_EDA_steam['release_year'].value_counts()"
   ]
  },
  {
   "cell_type": "code",
   "execution_count": 68,
   "id": "51e9ff6b-e5ae-476a-85f1-b87d0838c6e5",
   "metadata": {
    "tags": []
   },
   "outputs": [
    {
     "data": {
      "text/plain": [
       "count    1.924632e+06\n",
       "mean     2.015264e+03\n",
       "std      2.348809e+00\n",
       "min      1.983000e+03\n",
       "25%      2.015000e+03\n",
       "50%      2.016000e+03\n",
       "75%      2.017000e+03\n",
       "max      2.021000e+03\n",
       "Name: release_year, dtype: float64"
      ]
     },
     "execution_count": 68,
     "metadata": {},
     "output_type": "execute_result"
    }
   ],
   "source": [
    "df_EDA_steam['release_year'].describe()"
   ]
  },
  {
   "cell_type": "code",
   "execution_count": 69,
   "id": "2351a27c-f558-4a15-bc25-0db9f9698456",
   "metadata": {
    "tags": []
   },
   "outputs": [
    {
     "data": {
      "text/plain": [
       "array([2018., 2017., 1997., 1998., 2016., 2006., 2005., 2003., 2007.,\n",
       "       2002., 2000., 1995., 1996., 1994., 2001., 1993., 2004., 2008.,\n",
       "       2009., 1999., 1992., 1989., 2010., 2011., 2013., 2012., 2014.,\n",
       "       1983., 1984., 2015., 1990., 1988., 1991., 1987., 1986., 2021.,\n",
       "       2019., 1985.])"
      ]
     },
     "execution_count": 69,
     "metadata": {},
     "output_type": "execute_result"
    }
   ],
   "source": [
    "df_EDA_steam['release_year'].unique()"
   ]
  },
  {
   "cell_type": "code",
   "execution_count": 70,
   "id": "849fdec7-3f6b-4ac4-8bd7-c5071f550b30",
   "metadata": {
    "tags": []
   },
   "outputs": [
    {
     "name": "stdout",
     "output_type": "stream",
     "text": [
      "2017.0    613281\n",
      "2016.0    505553\n",
      "2015.0    352152\n",
      "2014.0    202161\n",
      "2013.0     96987\n",
      "2012.0     55408\n",
      "2011.0     32482\n",
      "2010.0     17350\n",
      "2009.0     10811\n",
      "2008.0      5598\n",
      "2007.0      5531\n",
      "2006.0      4522\n",
      "2018.0      4359\n",
      "2003.0      3146\n",
      "2005.0      3080\n",
      "2001.0      2172\n",
      "2004.0      1705\n",
      "1997.0      1297\n",
      "1999.0      1217\n",
      "2002.0      1068\n",
      "1998.0       911\n",
      "1996.0       648\n",
      "2000.0       608\n",
      "1994.0       575\n",
      "1995.0       516\n",
      "1993.0       355\n",
      "1992.0       251\n",
      "1988.0       163\n",
      "1991.0       132\n",
      "1984.0       126\n",
      "1983.0       108\n",
      "1986.0        90\n",
      "1990.0        78\n",
      "1989.0        73\n",
      "2019.0        72\n",
      "1987.0        26\n",
      "2021.0        18\n",
      "1985.0         2\n",
      "Name: release_year, dtype: int64\n"
     ]
    }
   ],
   "source": [
    "# Usar value_counts para contar la frecuencia de cada valor único en 'column_name'\n",
    "value_counts =df_EDA_steam['release_year'].value_counts()\n",
    "\n",
    "# Imprimir el resultado\n",
    "print(value_counts)\n"
   ]
  },
  {
   "cell_type": "code",
   "execution_count": 71,
   "id": "3c3da4b9-ed50-4083-a142-27addde68503",
   "metadata": {
    "tags": []
   },
   "outputs": [
    {
     "data": {
      "image/png": "[encoded data removed]",
      "text/plain": [
       "<Figure size 1000x600 with 1 Axes>"
      ]
     },
     "metadata": {},
     "output_type": "display_data"
    }
   ],
   "source": [
    "# Agrupar los datos por año y contar la cantidad de juegos en cada año\n",
    "yearly_counts = df_EDA_steam['release_year'].value_counts().sort_index()\n",
    "\n",
    "# Crear un gráfico de línea\n",
    "plt.figure(figsize=(10, 6))\n",
    "plt.plot(yearly_counts.index, yearly_counts.values, marker='o', linestyle='-')\n",
    "\n",
    "# Configuración de etiquetas y título\n",
    "plt.xlabel('Año de Lanzamiento')\n",
    "plt.ylabel('Cantidad de Juegos')\n",
    "plt.title('Crecimiento de Juegos a lo largo de los Años')\n",
    "\n",
    "# Mostrar el gráfico\n",
    "plt.grid()\n",
    "plt.show()"
   ]
  },
  {
   "cell_type": "code",
   "execution_count": 72,
   "id": "745fa161-340f-4654-9756-d14e08512565",
   "metadata": {
    "tags": []
   },
   "outputs": [],
   "source": [
    "df_EDA_reviews = pd.read_csv('EDA_user_review.csv')"
   ]
  },
  {
   "cell_type": "markdown",
   "id": "cdf3c09a-3488-4b4f-9561-7d8678f355bd",
   "metadata": {},
   "source": [
    "Posted"
   ]
  },
  {
   "cell_type": "code",
   "execution_count": 74,
   "id": "0551290f-8eda-4e27-9daa-c3157cdf146d",
   "metadata": {
    "tags": []
   },
   "outputs": [
    {
     "data": {
      "text/plain": [
       "2014    21821\n",
       "2015    18146\n",
       "2013     6707\n",
       "2012     1201\n",
       "2011      530\n",
       "2010       66\n",
       "Name: posted, dtype: int64"
      ]
     },
     "execution_count": 74,
     "metadata": {},
     "output_type": "execute_result"
    }
   ],
   "source": [
    "df_EDA_reviews['posted'].value_counts()"
   ]
  },
  {
   "cell_type": "code",
   "execution_count": 75,
   "id": "112d27d4-a23e-427a-8d21-df43e21353f1",
   "metadata": {
    "tags": []
   },
   "outputs": [
    {
     "data": {
      "text/plain": [
       "count    48471.000000\n",
       "mean      2014.148192\n",
       "std          0.842674\n",
       "min       2010.000000\n",
       "25%       2014.000000\n",
       "50%       2014.000000\n",
       "75%       2015.000000\n",
       "max       2015.000000\n",
       "Name: posted, dtype: float64"
      ]
     },
     "execution_count": 75,
     "metadata": {},
     "output_type": "execute_result"
    }
   ],
   "source": [
    "df_EDA_reviews['posted'].describe()"
   ]
  },
  {
   "cell_type": "markdown",
   "id": "e467a368-ec4c-4e67-a355-221fa1d30144",
   "metadata": {},
   "source": [
    "Sentiment"
   ]
  },
  {
   "cell_type": "code",
   "execution_count": 77,
   "id": "247f2b61-a12f-40a1-bf44-48c6d30f781f",
   "metadata": {
    "tags": []
   },
   "outputs": [
    {
     "data": {
      "text/plain": [
       "2    27772\n",
       "1    10530\n",
       "0    10169\n",
       "Name: sentiment, dtype: int64"
      ]
     },
     "execution_count": 77,
     "metadata": {},
     "output_type": "execute_result"
    }
   ],
   "source": [
    "df_EDA_reviews['sentiment'].value_counts()"
   ]
  },
  {
   "cell_type": "code",
   "execution_count": 78,
   "id": "34596d86-5fa9-4ccc-b99c-934ce85c37e5",
   "metadata": {
    "tags": []
   },
   "outputs": [
    {
     "data": {
      "text/plain": [
       "2    27772\n",
       "1    10530\n",
       "0    10169\n",
       "Name: sentiment, dtype: int64"
      ]
     },
     "execution_count": 78,
     "metadata": {},
     "output_type": "execute_result"
    }
   ],
   "source": [
    "value_counts_sentiment =df_EDA_reviews['sentiment'].value_counts()\n",
    "value_counts_sentiment \n"
   ]
  },
  {
   "cell_type": "markdown",
   "id": "3a9de4ba-e006-400f-a21c-716bf3e937e7",
   "metadata": {},
   "source": [
    "Tiempo total de juego playtime_forever"
   ]
  },
  {
   "cell_type": "code",
   "execution_count": 79,
   "id": "b1f561e6-a316-4984-a1e1-76a6c6356909",
   "metadata": {
    "tags": []
   },
   "outputs": [
    {
     "name": "stderr",
     "output_type": "stream",
     "text": [
      "C:\\Users\\Administrador\\AppData\\Roaming\\Python\\Python37\\site-packages\\IPython\\core\\interactiveshell.py:3553: DtypeWarning: Columns (3) have mixed types.Specify dtype option on import or set low_memory=False.\n",
      "  exec(code_obj, self.user_global_ns, self.user_ns)\n"
     ]
    }
   ],
   "source": [
    "df_EDA_items = pd.read_csv('EDA_user_item.csv')"
   ]
  },
  {
   "cell_type": "code",
   "execution_count": 80,
   "id": "cde029f3-a8cf-4ba7-b55f-7b7ff8b5461f",
   "metadata": {
    "tags": []
   },
   "outputs": [
    {
     "data": {
      "text/html": [
       "<div>\n",
       "<style scoped>\n",
       "    .dataframe tbody tr th:only-of-type {\n",
       "        vertical-align: middle;\n",
       "    }\n",
       "\n",
       "    .dataframe tbody tr th {\n",
       "        vertical-align: top;\n",
       "    }\n",
       "\n",
       "    .dataframe thead th {\n",
       "        text-align: right;\n",
       "    }\n",
       "</style>\n",
       "<table border=\"1\" class=\"dataframe\">\n",
       "  <thead>\n",
       "    <tr style=\"text-align: right;\">\n",
       "      <th></th>\n",
       "      <th>item_id</th>\n",
       "      <th>item_name</th>\n",
       "      <th>playtime_forever</th>\n",
       "      <th>user_id</th>\n",
       "    </tr>\n",
       "  </thead>\n",
       "  <tbody>\n",
       "    <tr>\n",
       "      <th>0</th>\n",
       "      <td>200210</td>\n",
       "      <td>Realm of the Mad God</td>\n",
       "      <td>166</td>\n",
       "      <td>--000--</td>\n",
       "    </tr>\n",
       "    <tr>\n",
       "      <th>1</th>\n",
       "      <td>263760</td>\n",
       "      <td>Turbo Dismount</td>\n",
       "      <td>244</td>\n",
       "      <td>--000--</td>\n",
       "    </tr>\n",
       "    <tr>\n",
       "      <th>2</th>\n",
       "      <td>233190</td>\n",
       "      <td>Final Exam</td>\n",
       "      <td>193</td>\n",
       "      <td>--000--</td>\n",
       "    </tr>\n",
       "    <tr>\n",
       "      <th>3</th>\n",
       "      <td>218620</td>\n",
       "      <td>PAYDAY 2</td>\n",
       "      <td>416</td>\n",
       "      <td>--000--</td>\n",
       "    </tr>\n",
       "    <tr>\n",
       "      <th>4</th>\n",
       "      <td>225640</td>\n",
       "      <td>Sacred 2 Gold</td>\n",
       "      <td>5</td>\n",
       "      <td>--000--</td>\n",
       "    </tr>\n",
       "    <tr>\n",
       "      <th>...</th>\n",
       "      <td>...</td>\n",
       "      <td>...</td>\n",
       "      <td>...</td>\n",
       "      <td>...</td>\n",
       "    </tr>\n",
       "    <tr>\n",
       "      <th>5094100</th>\n",
       "      <td>17080</td>\n",
       "      <td>Tribes: Ascend</td>\n",
       "      <td>475</td>\n",
       "      <td>zzzmidmiss</td>\n",
       "    </tr>\n",
       "    <tr>\n",
       "      <th>5094101</th>\n",
       "      <td>105430</td>\n",
       "      <td>Age of Empires Online</td>\n",
       "      <td>358</td>\n",
       "      <td>zzzmidmiss</td>\n",
       "    </tr>\n",
       "    <tr>\n",
       "      <th>5094102</th>\n",
       "      <td>113400</td>\n",
       "      <td>APB Reloaded</td>\n",
       "      <td>16</td>\n",
       "      <td>zzzmidmiss</td>\n",
       "    </tr>\n",
       "    <tr>\n",
       "      <th>5094103</th>\n",
       "      <td>200390</td>\n",
       "      <td>Oil Rush</td>\n",
       "      <td>45</td>\n",
       "      <td>zzzmidmiss</td>\n",
       "    </tr>\n",
       "    <tr>\n",
       "      <th>5094104</th>\n",
       "      <td>202750</td>\n",
       "      <td>Alan Wake's American Nightmare</td>\n",
       "      <td>3</td>\n",
       "      <td>zzzmidmiss</td>\n",
       "    </tr>\n",
       "  </tbody>\n",
       "</table>\n",
       "<p>5094105 rows × 4 columns</p>\n",
       "</div>"
      ],
      "text/plain": [
       "         item_id                       item_name  playtime_forever     user_id\n",
       "0         200210            Realm of the Mad God               166     --000--\n",
       "1         263760                  Turbo Dismount               244     --000--\n",
       "2         233190                      Final Exam               193     --000--\n",
       "3         218620                        PAYDAY 2               416     --000--\n",
       "4         225640                   Sacred 2 Gold                 5     --000--\n",
       "...          ...                             ...               ...         ...\n",
       "5094100    17080                  Tribes: Ascend               475  zzzmidmiss\n",
       "5094101   105430           Age of Empires Online               358  zzzmidmiss\n",
       "5094102   113400                    APB Reloaded                16  zzzmidmiss\n",
       "5094103   200390                        Oil Rush                45  zzzmidmiss\n",
       "5094104   202750  Alan Wake's American Nightmare                 3  zzzmidmiss\n",
       "\n",
       "[5094105 rows x 4 columns]"
      ]
     },
     "execution_count": 80,
     "metadata": {},
     "output_type": "execute_result"
    }
   ],
   "source": [
    "df_EDA_items"
   ]
  },
  {
   "cell_type": "code",
   "execution_count": 82,
   "id": "33aa37f0-953e-4c1c-a2fc-4478ce98cb1f",
   "metadata": {
    "tags": []
   },
   "outputs": [
    {
     "data": {
      "text/plain": [
       "0         1847730\n",
       "1          101586\n",
       "2           34391\n",
       "3           31530\n",
       "4           29127\n",
       "           ...   \n",
       "28671           1\n",
       "193520          1\n",
       "30500           1\n",
       "39459           1\n",
       "57545           1\n",
       "Name: playtime_forever, Length: 48861, dtype: int64"
      ]
     },
     "execution_count": 82,
     "metadata": {},
     "output_type": "execute_result"
    }
   ],
   "source": [
    "df_EDA_items['playtime_forever'].value_counts()"
   ]
  },
  {
   "cell_type": "code",
   "execution_count": 83,
   "id": "b0bf078b-e516-4ba4-aad6-5bc583b0d8ac",
   "metadata": {
    "tags": []
   },
   "outputs": [
    {
     "data": {
      "text/plain": [
       "count    5.094105e+06\n",
       "mean     9.905511e+02\n",
       "std      5.414297e+03\n",
       "min      0.000000e+00\n",
       "25%      0.000000e+00\n",
       "50%      3.400000e+01\n",
       "75%      3.550000e+02\n",
       "max      6.427730e+05\n",
       "Name: playtime_forever, dtype: float64"
      ]
     },
     "execution_count": 83,
     "metadata": {},
     "output_type": "execute_result"
    }
   ],
   "source": [
    "df_EDA_items['playtime_forever'].describe()"
   ]
  },
  {
   "cell_type": "code",
   "execution_count": 84,
   "id": "c68cb217-7f97-4ab1-9734-d2dab275f57c",
   "metadata": {
    "tags": []
   },
   "outputs": [
    {
     "data": {
      "text/plain": [
       "0         1847730\n",
       "1          101586\n",
       "2           34391\n",
       "3           31530\n",
       "4           29127\n",
       "           ...   \n",
       "28671           1\n",
       "193520          1\n",
       "30500           1\n",
       "39459           1\n",
       "57545           1\n",
       "Name: playtime_forever, Length: 48861, dtype: int64"
      ]
     },
     "execution_count": 84,
     "metadata": {},
     "output_type": "execute_result"
    }
   ],
   "source": [
    "df_EDA_items['playtime_forever'].value_counts()"
   ]
  },
  {
   "cell_type": "code",
   "execution_count": null,
   "id": "b1523ddf-8f2e-411d-8bca-12a6ff9bb2c5",
   "metadata": {},
   "outputs": [],
   "source": [
    "#elimino los valores de playtime_forever 0 (cero) ya que no me aportaran para el modelo"
   ]
  },
  {
   "cell_type": "code",
   "execution_count": 85,
   "id": "ea51dd8e-d337-4075-a368-73fe3dedbaf8",
   "metadata": {
    "tags": []
   },
   "outputs": [],
   "source": [
    "df_EDA_items = df_EDA_items[df_EDA_items['playtime_forever'] != 0]\n"
   ]
  },
  {
   "cell_type": "code",
   "execution_count": 86,
   "id": "bb672e66-e09f-484d-8d83-f54c25aa895c",
   "metadata": {
    "tags": []
   },
   "outputs": [
    {
     "data": {
      "text/plain": [
       "1        101586\n",
       "2         34391\n",
       "3         31530\n",
       "4         29127\n",
       "5         27612\n",
       "          ...  \n",
       "23112         1\n",
       "44840         1\n",
       "34509         1\n",
       "89537         1\n",
       "57545         1\n",
       "Name: playtime_forever, Length: 48860, dtype: int64"
      ]
     },
     "execution_count": 86,
     "metadata": {},
     "output_type": "execute_result"
    }
   ],
   "source": [
    "df_EDA_items['playtime_forever'].value_counts()"
   ]
  },
  {
   "cell_type": "code",
   "execution_count": 87,
   "id": "17c6dbc7-236e-4f6b-ba84-e7db51d50aa1",
   "metadata": {
    "tags": []
   },
   "outputs": [
    {
     "name": "stdout",
     "output_type": "stream",
     "text": [
      "Primer cuartil (Q1): 44.0\n",
      "Mediana (Q2): 205.0\n",
      "Tercer cuartil (Q3): 808.0\n"
     ]
    }
   ],
   "source": [
    "# Calcular el primer cuartil (Q1)\n",
    "q1 = df_EDA_items['playtime_forever'].quantile(0.25)\n",
    "\n",
    "# Calcular la mediana (Q2)\n",
    "q2 = df_EDA_items['playtime_forever'].quantile(0.5)\n",
    "\n",
    "# Calcular el tercer cuartil (Q3)\n",
    "q3 = df_EDA_items['playtime_forever'].quantile(0.75)\n",
    "\n",
    "print(\"Primer cuartil (Q1):\", q1)\n",
    "print(\"Mediana (Q2):\", q2)\n",
    "print(\"Tercer cuartil (Q3):\", q3)"
   ]
  },
  {
   "cell_type": "code",
   "execution_count": 88,
   "id": "db5ab0cf-5e03-4e44-9b31-10fc4df0ee10",
   "metadata": {
    "tags": []
   },
   "outputs": [
    {
     "name": "stdout",
     "output_type": "stream",
     "text": [
      "Valores atípicos:\n",
      "         item_id                                     item_name  \\\n",
      "16        113400                                  APB Reloaded   \n",
      "26        339610                 FreeStyle2: Street Basketball   \n",
      "36        304930                                      Unturned   \n",
      "38        304050                                         Trove   \n",
      "42           730              Counter-Strike: Global Offensive   \n",
      "...          ...                                           ...   \n",
      "5094014    42690  Call of Duty: Modern Warfare 3 - Multiplayer   \n",
      "5094018   202990      Call of Duty: Black Ops II - Multiplayer   \n",
      "5094022      730              Counter-Strike: Global Offensive   \n",
      "5094032   110800                                    L.A. Noire   \n",
      "5094091    49520                                 Borderlands 2   \n",
      "\n",
      "         playtime_forever     user_id  \n",
      "16                   2763     --000--  \n",
      "26                   5502     --000--  \n",
      "36                   4037     --000--  \n",
      "38                   4260     --000--  \n",
      "42                 107119     --000--  \n",
      "...                   ...         ...  \n",
      "5094014              9890       zzyfo  \n",
      "5094018             16779       zzyfo  \n",
      "5094022              9308       zzyfo  \n",
      "5094032              2175       zzyfo  \n",
      "5094091              2156  zzzmidmiss  \n",
      "\n",
      "[431373 rows x 4 columns]\n",
      "1955     199\n",
      "1976     196\n",
      "1958     196\n",
      "1972     195\n",
      "1997     195\n",
      "        ... \n",
      "44542      1\n",
      "66243      1\n",
      "33941      1\n",
      "34135      1\n",
      "57545      1\n",
      "Name: playtime_forever, Length: 46906, dtype: int64\n"
     ]
    }
   ],
   "source": [
    "#outliers\n",
    "# Calcular el primer cuartil (Q1) y el tercer cuartil (Q3)\n",
    "Q1 = df_EDA_items['playtime_forever'].quantile(0.25)\n",
    "Q3 = df_EDA_items['playtime_forever'].quantile(0.75)\n",
    "\n",
    "# Calcular el rango intercuartílico (IQR)\n",
    "IQR = Q3 - Q1\n",
    "\n",
    "# Calcular los límites para los valores atípicos\n",
    "lower_limit = Q1 - 1.5 * IQR\n",
    "upper_limit = Q3 + 1.5 * IQR\n",
    "\n",
    "# Identificar los valores atípicos\n",
    "outliers = df_EDA_items[(df_EDA_items['playtime_forever'] < lower_limit) | (df_EDA_items['playtime_forever'] > upper_limit)]\n",
    "\n",
    "# Imprimir los valores atípicos\n",
    "print(\"Valores atípicos:\")\n",
    "print(outliers)\n",
    "print(outliers['playtime_forever'].value_counts())\n",
    "#En este código, identificamos los valores atípicos en la columna especificada ('column_name') y los almacenamos en el DataFrame 'outliers'. Puedes ajustar el factor multiplicativo (1.5) en los límites según tus criterios para definir qué se considera un valor atípico."
   ]
  },
  {
   "cell_type": "code",
   "execution_count": 89,
   "id": "bea9c814-8339-445a-9935-e9ab02dc761f",
   "metadata": {
    "tags": []
   },
   "outputs": [
    {
     "name": "stderr",
     "output_type": "stream",
     "text": [
      "C:\\Users\\Administrador\\AppData\\Roaming\\Python\\Python37\\site-packages\\ipykernel_launcher.py:11: SettingWithCopyWarning: \n",
      "A value is trying to be set on a copy of a slice from a DataFrame.\n",
      "Try using .loc[row_indexer,col_indexer] = value instead\n",
      "\n",
      "See the caveats in the documentation: https://pandas.pydata.org/pandas-docs/stable/user_guide/indexing.html#returning-a-view-versus-a-copy\n",
      "  # This is added back by InteractiveShellApp.init_path()\n"
     ]
    },
    {
     "data": {
      "text/html": [
       "<div>\n",
       "<style scoped>\n",
       "    .dataframe tbody tr th:only-of-type {\n",
       "        vertical-align: middle;\n",
       "    }\n",
       "\n",
       "    .dataframe tbody tr th {\n",
       "        vertical-align: top;\n",
       "    }\n",
       "\n",
       "    .dataframe thead th {\n",
       "        text-align: right;\n",
       "    }\n",
       "</style>\n",
       "<table border=\"1\" class=\"dataframe\">\n",
       "  <thead>\n",
       "    <tr style=\"text-align: right;\">\n",
       "      <th></th>\n",
       "      <th>item_id</th>\n",
       "      <th>item_name</th>\n",
       "      <th>playtime_forever</th>\n",
       "      <th>user_id</th>\n",
       "      <th>categorias_playtime</th>\n",
       "    </tr>\n",
       "  </thead>\n",
       "  <tbody>\n",
       "    <tr>\n",
       "      <th>0</th>\n",
       "      <td>200210</td>\n",
       "      <td>Realm of the Mad God</td>\n",
       "      <td>166</td>\n",
       "      <td>--000--</td>\n",
       "      <td>2</td>\n",
       "    </tr>\n",
       "    <tr>\n",
       "      <th>1</th>\n",
       "      <td>263760</td>\n",
       "      <td>Turbo Dismount</td>\n",
       "      <td>244</td>\n",
       "      <td>--000--</td>\n",
       "      <td>2</td>\n",
       "    </tr>\n",
       "    <tr>\n",
       "      <th>2</th>\n",
       "      <td>233190</td>\n",
       "      <td>Final Exam</td>\n",
       "      <td>193</td>\n",
       "      <td>--000--</td>\n",
       "      <td>2</td>\n",
       "    </tr>\n",
       "    <tr>\n",
       "      <th>3</th>\n",
       "      <td>218620</td>\n",
       "      <td>PAYDAY 2</td>\n",
       "      <td>416</td>\n",
       "      <td>--000--</td>\n",
       "      <td>3</td>\n",
       "    </tr>\n",
       "    <tr>\n",
       "      <th>4</th>\n",
       "      <td>225640</td>\n",
       "      <td>Sacred 2 Gold</td>\n",
       "      <td>5</td>\n",
       "      <td>--000--</td>\n",
       "      <td>0</td>\n",
       "    </tr>\n",
       "    <tr>\n",
       "      <th>...</th>\n",
       "      <td>...</td>\n",
       "      <td>...</td>\n",
       "      <td>...</td>\n",
       "      <td>...</td>\n",
       "      <td>...</td>\n",
       "    </tr>\n",
       "    <tr>\n",
       "      <th>5094100</th>\n",
       "      <td>17080</td>\n",
       "      <td>Tribes: Ascend</td>\n",
       "      <td>475</td>\n",
       "      <td>zzzmidmiss</td>\n",
       "      <td>3</td>\n",
       "    </tr>\n",
       "    <tr>\n",
       "      <th>5094101</th>\n",
       "      <td>105430</td>\n",
       "      <td>Age of Empires Online</td>\n",
       "      <td>358</td>\n",
       "      <td>zzzmidmiss</td>\n",
       "      <td>3</td>\n",
       "    </tr>\n",
       "    <tr>\n",
       "      <th>5094102</th>\n",
       "      <td>113400</td>\n",
       "      <td>APB Reloaded</td>\n",
       "      <td>16</td>\n",
       "      <td>zzzmidmiss</td>\n",
       "      <td>0</td>\n",
       "    </tr>\n",
       "    <tr>\n",
       "      <th>5094103</th>\n",
       "      <td>200390</td>\n",
       "      <td>Oil Rush</td>\n",
       "      <td>45</td>\n",
       "      <td>zzzmidmiss</td>\n",
       "      <td>1</td>\n",
       "    </tr>\n",
       "    <tr>\n",
       "      <th>5094104</th>\n",
       "      <td>202750</td>\n",
       "      <td>Alan Wake's American Nightmare</td>\n",
       "      <td>3</td>\n",
       "      <td>zzzmidmiss</td>\n",
       "      <td>0</td>\n",
       "    </tr>\n",
       "  </tbody>\n",
       "</table>\n",
       "<p>3246375 rows × 5 columns</p>\n",
       "</div>"
      ],
      "text/plain": [
       "         item_id                       item_name  playtime_forever  \\\n",
       "0         200210            Realm of the Mad God               166   \n",
       "1         263760                  Turbo Dismount               244   \n",
       "2         233190                      Final Exam               193   \n",
       "3         218620                        PAYDAY 2               416   \n",
       "4         225640                   Sacred 2 Gold                 5   \n",
       "...          ...                             ...               ...   \n",
       "5094100    17080                  Tribes: Ascend               475   \n",
       "5094101   105430           Age of Empires Online               358   \n",
       "5094102   113400                    APB Reloaded                16   \n",
       "5094103   200390                        Oil Rush                45   \n",
       "5094104   202750  Alan Wake's American Nightmare                 3   \n",
       "\n",
       "            user_id  categorias_playtime  \n",
       "0           --000--                    2  \n",
       "1           --000--                    2  \n",
       "2           --000--                    2  \n",
       "3           --000--                    3  \n",
       "4           --000--                    0  \n",
       "...             ...                  ...  \n",
       "5094100  zzzmidmiss                    3  \n",
       "5094101  zzzmidmiss                    3  \n",
       "5094102  zzzmidmiss                    0  \n",
       "5094103  zzzmidmiss                    1  \n",
       "5094104  zzzmidmiss                    0  \n",
       "\n",
       "[3246375 rows x 5 columns]"
      ]
     },
     "execution_count": 89,
     "metadata": {},
     "output_type": "execute_result"
    }
   ],
   "source": [
    "# Definir la cantidad de categorías deseadas o dejarlo en manos de qcut\n",
    "num_categorias = 5  # Puedes ajustar este valor según tus preferencias o dejarlo en None\n",
    "\n",
    "# Utilizar qcut para crear las categorías automáticamente\n",
    "if num_categorias:\n",
    "    categorias = pd.qcut(df_EDA_items['playtime_forever'], q=num_categorias, labels=False)\n",
    "else:\n",
    "    categorias = pd.qcut(df_EDA_items['playtime_forever'], labels=False)\n",
    "\n",
    "# Agregar las categorías al DataFrame\n",
    "df_EDA_items['categorias_playtime'] = categorias\n",
    "\n",
    "# Ver el DataFrame resultan\n",
    "df_EDA_items"
   ]
  },
  {
   "cell_type": "code",
   "execution_count": 90,
   "id": "deb14b63-2203-46de-b484-015f7b9d2f74",
   "metadata": {},
   "outputs": [],
   "source": [
    "# Calcular los límites de los cuantiles y asignar categorías\n",
    "categorias, limites_cuantiles = pd.qcut(df_EDA_items['playtime_forever'], q=6, retbins=True, labels=False)"
   ]
  },
  {
   "cell_type": "code",
   "execution_count": 92,
   "id": "5ca860b2-7427-4729-b2ed-fc2d08c42bd8",
   "metadata": {
    "tags": []
   },
   "outputs": [
    {
     "name": "stdout",
     "output_type": "stream",
     "text": [
      "Límite inferior de la categoría 0: 1.0\n",
      "Límite superior de la categoría 0: 22.0\n",
      "Límite inferior de la categoría 1: 22.0\n",
      "Límite superior de la categoría 1: 78.0\n",
      "Límite inferior de la categoría 2: 78.0\n",
      "Límite superior de la categoría 2: 205.0\n",
      "Límite inferior de la categoría 3: 205.0\n",
      "Límite superior de la categoría 3: 494.0\n",
      "Límite inferior de la categoría 4: 494.0\n",
      "Límite superior de la categoría 4: 1454.0\n",
      "Límite inferior de la categoría 5: 1454.0\n",
      "Límite superior de la categoría 5: 642773.0\n"
     ]
    }
   ],
   "source": [
    "# Encontrar los límites de la categoría 0\n",
    "limite_inferior_0 = limites_cuantiles[0]\n",
    "limite_superior_0 = limites_cuantiles[1]\n",
    "\n",
    "# Imprimir los límites de la categoría 0\n",
    "print(f\"Límite inferior de la categoría 0: {limite_inferior_0}\")\n",
    "print(f\"Límite superior de la categoría 0: {limite_superior_0}\")\n",
    "\n",
    "# Encontrar los límites de la categoría 1\n",
    "limite_inferior_1 = limites_cuantiles[1]\n",
    "limite_superior_1 = limites_cuantiles[2]\n",
    "\n",
    "# Imprimir los límites de la categoría 1\n",
    "print(f\"Límite inferior de la categoría 1: {limite_inferior_1}\")\n",
    "print(f\"Límite superior de la categoría 1: {limite_superior_1}\")\n",
    "\n",
    "# Encontrar los límites de la categoría 2\n",
    "limite_inferior_2 = limites_cuantiles[2]\n",
    "limite_superior_2 = limites_cuantiles[3]\n",
    "\n",
    "# Imprimir los límites de la categoría 2\n",
    "print(f\"Límite inferior de la categoría 2: {limite_inferior_2}\")\n",
    "print(f\"Límite superior de la categoría 2: {limite_superior_2}\")\n",
    "\n",
    "\n",
    "# Encontrar los límites de la categoría 3\n",
    "limite_inferior_3 = limites_cuantiles[3]\n",
    "limite_superior_3 = limites_cuantiles[4]\n",
    "\n",
    "# Imprimir los límites de la categoría 3\n",
    "print(f\"Límite inferior de la categoría 3: {limite_inferior_3}\")\n",
    "print(f\"Límite superior de la categoría 3: {limite_superior_3}\")\n",
    "\n",
    "# Encontrar los límites de la categoría 4\n",
    "limite_inferior_4 = limites_cuantiles[4]\n",
    "limite_superior_4 = limites_cuantiles[5]\n",
    "\n",
    "# Imprimir los límites de la categoría 4\n",
    "print(f\"Límite inferior de la categoría 4: {limite_inferior_4}\")\n",
    "print(f\"Límite superior de la categoría 4: {limite_superior_4}\")\n",
    "\n",
    "# Encontrar los límites de la categoría 5\n",
    "limite_inferior_5 = limites_cuantiles[5]\n",
    "limite_superior_5 = limites_cuantiles[6]\n",
    "\n",
    "# Imprimir los límites de la categoría 5\n",
    "print(f\"Límite inferior de la categoría 5: {limite_inferior_5}\")\n",
    "print(f\"Límite superior de la categoría 5: {limite_superior_5}\")"
   ]
  },
  {
   "cell_type": "markdown",
   "id": "0bcd4c0b-b0be-4c08-a5db-141d1971216f",
   "metadata": {},
   "source": [
    "Variables categóricas, realizar una visualización adecuada para observar las frecuencias de cada categoría.\n",
    "    \n",
    "    df_steam_games['tag'] y [steam], pero esta ultima no la utilizo \n",
    "    \n",
    "    df_user_review ['recommend']"
   ]
  },
  {
   "cell_type": "markdown",
   "id": "6fa13cf7-5af1-4b35-9b25-8f9b594819ef",
   "metadata": {},
   "source": [
    "Tag etiqueta"
   ]
  },
  {
   "cell_type": "code",
   "execution_count": 93,
   "id": "9c41887d-2175-462b-9212-fbcc0f9e1ccc",
   "metadata": {
    "tags": []
   },
   "outputs": [
    {
     "data": {
      "text/plain": [
       "<bound method IndexOpsMixin.value_counts of 0             Strategy\n",
       "1               Action\n",
       "2                Indie\n",
       "3               Casual\n",
       "4           Simulation\n",
       "              ...     \n",
       "1924627    Atmospheric\n",
       "1924628    Atmospheric\n",
       "1924629       Relaxing\n",
       "1924630       Relaxing\n",
       "1924631       Relaxing\n",
       "Name: tag, Length: 1924632, dtype: object>"
      ]
     },
     "execution_count": 93,
     "metadata": {},
     "output_type": "execute_result"
    }
   ],
   "source": [
    "df_EDA_steam['tag'].value_counts"
   ]
  },
  {
   "cell_type": "code",
   "execution_count": 94,
   "id": "692167b4-45f6-46b0-8b7e-36da97f27de1",
   "metadata": {
    "tags": []
   },
   "outputs": [
    {
     "data": {
      "text/plain": [
       "count     1924448\n",
       "unique        336\n",
       "top         Indie\n",
       "freq       206017\n",
       "Name: tag, dtype: object"
      ]
     },
     "execution_count": 94,
     "metadata": {},
     "output_type": "execute_result"
    }
   ],
   "source": [
    "df_EDA_steam['tag'].describe()"
   ]
  },
  {
   "cell_type": "code",
   "execution_count": 95,
   "id": "a6c631fa-3531-4a65-9f0e-6af0639fd8bf",
   "metadata": {
    "tags": []
   },
   "outputs": [
    {
     "data": {
      "text/plain": [
       "Indie          206017\n",
       "Action         153382\n",
       "Casual         114992\n",
       "Adventure      108600\n",
       "Strategy       100365\n",
       "                ...  \n",
       "Documentary        35\n",
       "Tutorial           28\n",
       "Foreign            24\n",
       "Hardware           18\n",
       "Faith               9\n",
       "Name: tag, Length: 336, dtype: int64"
      ]
     },
     "execution_count": 95,
     "metadata": {},
     "output_type": "execute_result"
    }
   ],
   "source": [
    "df_EDA_steam['tag'].value_counts()"
   ]
  },
  {
   "cell_type": "markdown",
   "id": "57e70012-8282-4b23-a3f6-c3c4e90d2f02",
   "metadata": {},
   "source": [
    "Recommend"
   ]
  },
  {
   "cell_type": "code",
   "execution_count": 97,
   "id": "264642a6-bcf1-4820-8492-1bbebce2fad0",
   "metadata": {
    "tags": []
   },
   "outputs": [
    {
     "data": {
      "text/plain": [
       "True     43533\n",
       "False     4938\n",
       "Name: recommend, dtype: int64"
      ]
     },
     "execution_count": 97,
     "metadata": {},
     "output_type": "execute_result"
    }
   ],
   "source": [
    "df_EDA_reviews['recommend'].value_counts()"
   ]
  },
  {
   "cell_type": "code",
   "execution_count": 98,
   "id": "8cb8df0e-daa8-441c-8c8f-79bec12a3ef3",
   "metadata": {
    "tags": []
   },
   "outputs": [
    {
     "data": {
      "text/plain": [
       "count     48471\n",
       "unique        2\n",
       "top        True\n",
       "freq      43533\n",
       "Name: recommend, dtype: object"
      ]
     },
     "execution_count": 98,
     "metadata": {},
     "output_type": "execute_result"
    }
   ],
   "source": [
    "df_EDA_reviews['recommend'].describe()"
   ]
  },
  {
   "cell_type": "code",
   "execution_count": 99,
   "id": "a6e73241-f9f1-4db8-997b-f4652b924e90",
   "metadata": {
    "tags": []
   },
   "outputs": [],
   "source": [
    "# Reemplazar 'True' con 1 y 'False' con 0 en la columna 'recommend'\n",
    "df_EDA_reviews['recommend'] = df_EDA_reviews['recommend'].replace({True: 1, False: 0})"
   ]
  },
  {
   "cell_type": "code",
   "execution_count": 100,
   "id": "8122f2bb-65f2-4389-8b88-cc87f0666104",
   "metadata": {
    "tags": []
   },
   "outputs": [
    {
     "data": {
      "text/html": [
       "<div>\n",
       "<style scoped>\n",
       "    .dataframe tbody tr th:only-of-type {\n",
       "        vertical-align: middle;\n",
       "    }\n",
       "\n",
       "    .dataframe tbody tr th {\n",
       "        vertical-align: top;\n",
       "    }\n",
       "\n",
       "    .dataframe thead th {\n",
       "        text-align: right;\n",
       "    }\n",
       "</style>\n",
       "<table border=\"1\" class=\"dataframe\">\n",
       "  <thead>\n",
       "    <tr style=\"text-align: right;\">\n",
       "      <th></th>\n",
       "      <th>id</th>\n",
       "      <th>app_name</th>\n",
       "      <th>price_range</th>\n",
       "      <th>release_year</th>\n",
       "      <th>tag</th>\n",
       "    </tr>\n",
       "  </thead>\n",
       "  <tbody>\n",
       "    <tr>\n",
       "      <th>0</th>\n",
       "      <td>761140.0</td>\n",
       "      <td>Lost Summoner Kitty</td>\n",
       "      <td>2</td>\n",
       "      <td>2018.0</td>\n",
       "      <td>Strategy</td>\n",
       "    </tr>\n",
       "    <tr>\n",
       "      <th>1</th>\n",
       "      <td>761140.0</td>\n",
       "      <td>Lost Summoner Kitty</td>\n",
       "      <td>2</td>\n",
       "      <td>2018.0</td>\n",
       "      <td>Action</td>\n",
       "    </tr>\n",
       "    <tr>\n",
       "      <th>2</th>\n",
       "      <td>761140.0</td>\n",
       "      <td>Lost Summoner Kitty</td>\n",
       "      <td>2</td>\n",
       "      <td>2018.0</td>\n",
       "      <td>Indie</td>\n",
       "    </tr>\n",
       "    <tr>\n",
       "      <th>3</th>\n",
       "      <td>761140.0</td>\n",
       "      <td>Lost Summoner Kitty</td>\n",
       "      <td>2</td>\n",
       "      <td>2018.0</td>\n",
       "      <td>Casual</td>\n",
       "    </tr>\n",
       "    <tr>\n",
       "      <th>4</th>\n",
       "      <td>761140.0</td>\n",
       "      <td>Lost Summoner Kitty</td>\n",
       "      <td>2</td>\n",
       "      <td>2018.0</td>\n",
       "      <td>Simulation</td>\n",
       "    </tr>\n",
       "    <tr>\n",
       "      <th>...</th>\n",
       "      <td>...</td>\n",
       "      <td>...</td>\n",
       "      <td>...</td>\n",
       "      <td>...</td>\n",
       "      <td>...</td>\n",
       "    </tr>\n",
       "    <tr>\n",
       "      <th>1924627</th>\n",
       "      <td>658870.0</td>\n",
       "      <td>EXIT 2 - Directions</td>\n",
       "      <td>2</td>\n",
       "      <td>2017.0</td>\n",
       "      <td>Atmospheric</td>\n",
       "    </tr>\n",
       "    <tr>\n",
       "      <th>1924628</th>\n",
       "      <td>658870.0</td>\n",
       "      <td>EXIT 2 - Directions</td>\n",
       "      <td>2</td>\n",
       "      <td>2017.0</td>\n",
       "      <td>Atmospheric</td>\n",
       "    </tr>\n",
       "    <tr>\n",
       "      <th>1924629</th>\n",
       "      <td>658870.0</td>\n",
       "      <td>EXIT 2 - Directions</td>\n",
       "      <td>2</td>\n",
       "      <td>2017.0</td>\n",
       "      <td>Relaxing</td>\n",
       "    </tr>\n",
       "    <tr>\n",
       "      <th>1924630</th>\n",
       "      <td>658870.0</td>\n",
       "      <td>EXIT 2 - Directions</td>\n",
       "      <td>2</td>\n",
       "      <td>2017.0</td>\n",
       "      <td>Relaxing</td>\n",
       "    </tr>\n",
       "    <tr>\n",
       "      <th>1924631</th>\n",
       "      <td>658870.0</td>\n",
       "      <td>EXIT 2 - Directions</td>\n",
       "      <td>2</td>\n",
       "      <td>2017.0</td>\n",
       "      <td>Relaxing</td>\n",
       "    </tr>\n",
       "  </tbody>\n",
       "</table>\n",
       "<p>1924632 rows × 5 columns</p>\n",
       "</div>"
      ],
      "text/plain": [
       "               id             app_name  price_range  release_year          tag\n",
       "0        761140.0  Lost Summoner Kitty            2        2018.0     Strategy\n",
       "1        761140.0  Lost Summoner Kitty            2        2018.0       Action\n",
       "2        761140.0  Lost Summoner Kitty            2        2018.0        Indie\n",
       "3        761140.0  Lost Summoner Kitty            2        2018.0       Casual\n",
       "4        761140.0  Lost Summoner Kitty            2        2018.0   Simulation\n",
       "...           ...                  ...          ...           ...          ...\n",
       "1924627  658870.0  EXIT 2 - Directions            2        2017.0  Atmospheric\n",
       "1924628  658870.0  EXIT 2 - Directions            2        2017.0  Atmospheric\n",
       "1924629  658870.0  EXIT 2 - Directions            2        2017.0     Relaxing\n",
       "1924630  658870.0  EXIT 2 - Directions            2        2017.0     Relaxing\n",
       "1924631  658870.0  EXIT 2 - Directions            2        2017.0     Relaxing\n",
       "\n",
       "[1924632 rows x 5 columns]"
      ]
     },
     "execution_count": 100,
     "metadata": {},
     "output_type": "execute_result"
    }
   ],
   "source": [
    "df_EDA_steam = df_EDA_steam [['id', 'app_name', 'price_range', 'release_year', 'tag']]\n",
    "df_EDA_steam"
   ]
  },
  {
   "cell_type": "code",
   "execution_count": 101,
   "id": "1fa4733c-e224-4666-9f3c-229dbb5d268f",
   "metadata": {
    "tags": []
   },
   "outputs": [],
   "source": [
    "df_EDA_steam.to_csv('df_EDA_steam_for_ML.csv')"
   ]
  },
  {
   "cell_type": "code",
   "execution_count": 102,
   "id": "b859a663-b7ee-46da-8889-169e61977245",
   "metadata": {
    "tags": []
   },
   "outputs": [
    {
     "data": {
      "text/html": [
       "<div>\n",
       "<style scoped>\n",
       "    .dataframe tbody tr th:only-of-type {\n",
       "        vertical-align: middle;\n",
       "    }\n",
       "\n",
       "    .dataframe tbody tr th {\n",
       "        vertical-align: top;\n",
       "    }\n",
       "\n",
       "    .dataframe thead th {\n",
       "        text-align: right;\n",
       "    }\n",
       "</style>\n",
       "<table border=\"1\" class=\"dataframe\">\n",
       "  <thead>\n",
       "    <tr style=\"text-align: right;\">\n",
       "      <th></th>\n",
       "      <th>user_id</th>\n",
       "      <th>id</th>\n",
       "      <th>recommend</th>\n",
       "      <th>sentiment</th>\n",
       "    </tr>\n",
       "  </thead>\n",
       "  <tbody>\n",
       "    <tr>\n",
       "      <th>0</th>\n",
       "      <td>76561197970982479</td>\n",
       "      <td>1250.0</td>\n",
       "      <td>1</td>\n",
       "      <td>2</td>\n",
       "    </tr>\n",
       "    <tr>\n",
       "      <th>1</th>\n",
       "      <td>76561197970982479</td>\n",
       "      <td>22200.0</td>\n",
       "      <td>1</td>\n",
       "      <td>2</td>\n",
       "    </tr>\n",
       "    <tr>\n",
       "      <th>2</th>\n",
       "      <td>76561197970982479</td>\n",
       "      <td>43110.0</td>\n",
       "      <td>1</td>\n",
       "      <td>2</td>\n",
       "    </tr>\n",
       "    <tr>\n",
       "      <th>3</th>\n",
       "      <td>js41637</td>\n",
       "      <td>251610.0</td>\n",
       "      <td>1</td>\n",
       "      <td>2</td>\n",
       "    </tr>\n",
       "    <tr>\n",
       "      <th>4</th>\n",
       "      <td>js41637</td>\n",
       "      <td>227300.0</td>\n",
       "      <td>1</td>\n",
       "      <td>0</td>\n",
       "    </tr>\n",
       "    <tr>\n",
       "      <th>...</th>\n",
       "      <td>...</td>\n",
       "      <td>...</td>\n",
       "      <td>...</td>\n",
       "      <td>...</td>\n",
       "    </tr>\n",
       "    <tr>\n",
       "      <th>48466</th>\n",
       "      <td>wayfeng</td>\n",
       "      <td>730.0</td>\n",
       "      <td>1</td>\n",
       "      <td>1</td>\n",
       "    </tr>\n",
       "    <tr>\n",
       "      <th>48467</th>\n",
       "      <td>76561198251004808</td>\n",
       "      <td>253980.0</td>\n",
       "      <td>1</td>\n",
       "      <td>2</td>\n",
       "    </tr>\n",
       "    <tr>\n",
       "      <th>48468</th>\n",
       "      <td>72947282842</td>\n",
       "      <td>730.0</td>\n",
       "      <td>1</td>\n",
       "      <td>0</td>\n",
       "    </tr>\n",
       "    <tr>\n",
       "      <th>48469</th>\n",
       "      <td>ApxLGhost</td>\n",
       "      <td>730.0</td>\n",
       "      <td>1</td>\n",
       "      <td>2</td>\n",
       "    </tr>\n",
       "    <tr>\n",
       "      <th>48470</th>\n",
       "      <td>76561198267374962</td>\n",
       "      <td>369200.0</td>\n",
       "      <td>1</td>\n",
       "      <td>2</td>\n",
       "    </tr>\n",
       "  </tbody>\n",
       "</table>\n",
       "<p>48471 rows × 4 columns</p>\n",
       "</div>"
      ],
      "text/plain": [
       "                 user_id        id  recommend  sentiment\n",
       "0      76561197970982479    1250.0          1          2\n",
       "1      76561197970982479   22200.0          1          2\n",
       "2      76561197970982479   43110.0          1          2\n",
       "3                js41637  251610.0          1          2\n",
       "4                js41637  227300.0          1          0\n",
       "...                  ...       ...        ...        ...\n",
       "48466            wayfeng     730.0          1          1\n",
       "48467  76561198251004808  253980.0          1          2\n",
       "48468        72947282842     730.0          1          0\n",
       "48469          ApxLGhost     730.0          1          2\n",
       "48470  76561198267374962  369200.0          1          2\n",
       "\n",
       "[48471 rows x 4 columns]"
      ]
     },
     "execution_count": 102,
     "metadata": {},
     "output_type": "execute_result"
    }
   ],
   "source": [
    "df_EDA_reviws_for_ML = df_EDA_reviews[['user_id','item_id', 'recommend', 'sentiment']]\n",
    "nuevos_nombres = {\n",
    "    'item_id': 'id',\n",
    "}\n",
    "\n",
    "# Usar el método 'rename' para cambiar los nombres de las columnas\n",
    "df_EDA_reviws_for_ML = df_EDA_reviws_for_ML.rename(columns=nuevos_nombres)\n",
    "df_EDA_reviws_for_ML"
   ]
  },
  {
   "cell_type": "code",
   "execution_count": 103,
   "id": "6db75098-8db5-49ff-9af3-75a7f3c5ba02",
   "metadata": {
    "tags": []
   },
   "outputs": [],
   "source": [
    "df_EDA_reviws_for_ML.to_csv('df_EDA_reviws_for_ML.csv')"
   ]
  },
  {
   "cell_type": "code",
   "execution_count": 104,
   "id": "367cb050-4bc8-4fd7-b8b5-2ad90aae80a3",
   "metadata": {
    "tags": []
   },
   "outputs": [],
   "source": [
    "df_EDA_items_for_ML = df_EDA_items[['item_id','item_name','user_id','categorias_playtime']]\n",
    "\n",
    "df_EDA_items_for_ML['id'] = df_EDA_items_for_ML['item_id']\n",
    "df_EDA_items_for_ML = df_EDA_items_for_ML.drop('item_id', axis=1)\n",
    "df_EDA_items_for_ML.to_csv('df_EDA_items_for_ML.csv')"
   ]
  }
 ],
 "metadata": {
  "kernelspec": {
   "display_name": "Python 3 (ipykernel)",
   "language": "python",
   "name": "python3"
  },
  "language_info": {
   "codemirror_mode": {
    "name": "ipython",
    "version": 3
   },
   "file_extension": ".py",
   "mimetype": "text/x-python",
   "name": "python",
   "nbconvert_exporter": "python",
   "pygments_lexer": "ipython3",
   "version": "3.7.8"
  }
 },
 "nbformat": 4,
 "nbformat_minor": 5
}
