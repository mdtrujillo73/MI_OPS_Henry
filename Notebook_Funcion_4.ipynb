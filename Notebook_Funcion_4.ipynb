{
 "cells": [
  {
   "cell_type": "markdown",
   "id": "21fb94bb",
   "metadata": {},
   "source": [
    "# Función 4"
   ]
  },
  {
   "cell_type": "markdown",
   "id": "b52aa8bc-32d2-41d0-960b-1f1209dd37cd",
   "metadata": {},
   "source": [
    "1. **UsersNotRecommend( año : int )**:\n",
    "- DataFrame a utilizar: `user_review_sentiment`\n",
    "- DataFrame a utilizar: `steam_games`\n",
    "- Utiliza la columna  `posted` para saber los años de posteo.\n",
    "- Utiliza la columna `recommend` para saber si el juego es recomendado o no.\n",
    "- Utiliza la columna `sentiment` para saber su grado de recomendación\n",
    "def UsersNotRecommend( año : int ): Devuelve el top 3 de juegos MENOS recomendados por usuarios para el año dado. (reviews.recommend = False y comentarios negativos)"
   ]
  },
  {
   "cell_type": "markdown",
   "id": "60bee78d",
   "metadata": {},
   "source": [
    "Se importa la librería necesaria"
   ]
  },
  {
   "cell_type": "code",
   "execution_count": 24,
   "id": "29397f58-f0d1-4e49-9ac0-a72382a16800",
   "metadata": {
    "tags": []
   },
   "outputs": [],
   "source": [
    "import pandas as pd"
   ]
  },
  {
   "cell_type": "markdown",
   "id": "b5ffdbda",
   "metadata": {},
   "source": [
    "Se utiliza el dataframe 'user_review_sentiment', así que se carga."
   ]
  },
  {
   "cell_type": "code",
   "execution_count": 25,
   "id": "b627a292-7602-491e-836d-169770e24ecd",
   "metadata": {
    "tags": []
   },
   "outputs": [],
   "source": [
    "df1 = pd.read_csv('user_review_sentiment.csv')"
   ]
  },
  {
   "cell_type": "markdown",
   "id": "c012bdc5",
   "metadata": {},
   "source": [
    "Se asegura que todos los registros contemplados en la columna 'posted'"
   ]
  },
  {
   "cell_type": "code",
   "execution_count": 26,
   "id": "6bc53fd0",
   "metadata": {},
   "outputs": [
    {
     "data": {
      "text/html": [
       "<div>\n",
       "<style scoped>\n",
       "    .dataframe tbody tr th:only-of-type {\n",
       "        vertical-align: middle;\n",
       "    }\n",
       "\n",
       "    .dataframe tbody tr th {\n",
       "        vertical-align: top;\n",
       "    }\n",
       "\n",
       "    .dataframe thead th {\n",
       "        text-align: right;\n",
       "    }\n",
       "</style>\n",
       "<table border=\"1\" class=\"dataframe\">\n",
       "  <thead>\n",
       "    <tr style=\"text-align: right;\">\n",
       "      <th></th>\n",
       "      <th>user_id</th>\n",
       "      <th>helpful</th>\n",
       "      <th>item_id</th>\n",
       "      <th>posted</th>\n",
       "      <th>recommend</th>\n",
       "      <th>polarity</th>\n",
       "      <th>sentiment</th>\n",
       "    </tr>\n",
       "  </thead>\n",
       "  <tbody>\n",
       "    <tr>\n",
       "      <th>0</th>\n",
       "      <td>76561197970982479</td>\n",
       "      <td>No ratings yet</td>\n",
       "      <td>1250.0</td>\n",
       "      <td>Posted November 5, 2011.</td>\n",
       "      <td>True</td>\n",
       "      <td>0.174444</td>\n",
       "      <td>2</td>\n",
       "    </tr>\n",
       "    <tr>\n",
       "      <th>1</th>\n",
       "      <td>76561197970982479</td>\n",
       "      <td>No ratings yet</td>\n",
       "      <td>22200.0</td>\n",
       "      <td>Posted July 15, 2011.</td>\n",
       "      <td>True</td>\n",
       "      <td>0.337500</td>\n",
       "      <td>2</td>\n",
       "    </tr>\n",
       "    <tr>\n",
       "      <th>2</th>\n",
       "      <td>76561197970982479</td>\n",
       "      <td>No ratings yet</td>\n",
       "      <td>43110.0</td>\n",
       "      <td>Posted April 21, 2011.</td>\n",
       "      <td>True</td>\n",
       "      <td>0.050000</td>\n",
       "      <td>2</td>\n",
       "    </tr>\n",
       "    <tr>\n",
       "      <th>3</th>\n",
       "      <td>js41637</td>\n",
       "      <td>15 of 20 people (75%) found this review helpful</td>\n",
       "      <td>251610.0</td>\n",
       "      <td>Posted June 24, 2014.</td>\n",
       "      <td>True</td>\n",
       "      <td>0.114583</td>\n",
       "      <td>2</td>\n",
       "    </tr>\n",
       "    <tr>\n",
       "      <th>4</th>\n",
       "      <td>js41637</td>\n",
       "      <td>0 of 1 people (0%) found this review helpful</td>\n",
       "      <td>227300.0</td>\n",
       "      <td>Posted September 8, 2013.</td>\n",
       "      <td>True</td>\n",
       "      <td>-0.036111</td>\n",
       "      <td>0</td>\n",
       "    </tr>\n",
       "    <tr>\n",
       "      <th>...</th>\n",
       "      <td>...</td>\n",
       "      <td>...</td>\n",
       "      <td>...</td>\n",
       "      <td>...</td>\n",
       "      <td>...</td>\n",
       "      <td>...</td>\n",
       "      <td>...</td>\n",
       "    </tr>\n",
       "    <tr>\n",
       "      <th>59300</th>\n",
       "      <td>76561198312638244</td>\n",
       "      <td>No ratings yet</td>\n",
       "      <td>70.0</td>\n",
       "      <td>Posted July 10.</td>\n",
       "      <td>True</td>\n",
       "      <td>0.233333</td>\n",
       "      <td>2</td>\n",
       "    </tr>\n",
       "    <tr>\n",
       "      <th>59301</th>\n",
       "      <td>76561198312638244</td>\n",
       "      <td>No ratings yet</td>\n",
       "      <td>362890.0</td>\n",
       "      <td>Posted July 8.</td>\n",
       "      <td>True</td>\n",
       "      <td>0.142500</td>\n",
       "      <td>2</td>\n",
       "    </tr>\n",
       "    <tr>\n",
       "      <th>59302</th>\n",
       "      <td>LydiaMorley</td>\n",
       "      <td>1 of 2 people (50%) found this review helpful</td>\n",
       "      <td>273110.0</td>\n",
       "      <td>Posted July 3.</td>\n",
       "      <td>True</td>\n",
       "      <td>0.087500</td>\n",
       "      <td>2</td>\n",
       "    </tr>\n",
       "    <tr>\n",
       "      <th>59303</th>\n",
       "      <td>LydiaMorley</td>\n",
       "      <td>No ratings yet</td>\n",
       "      <td>730.0</td>\n",
       "      <td>Posted July 20.</td>\n",
       "      <td>True</td>\n",
       "      <td>1.000000</td>\n",
       "      <td>2</td>\n",
       "    </tr>\n",
       "    <tr>\n",
       "      <th>59304</th>\n",
       "      <td>LydiaMorley</td>\n",
       "      <td>No ratings yet</td>\n",
       "      <td>440.0</td>\n",
       "      <td>Posted July 2.</td>\n",
       "      <td>True</td>\n",
       "      <td>0.650000</td>\n",
       "      <td>2</td>\n",
       "    </tr>\n",
       "  </tbody>\n",
       "</table>\n",
       "<p>59305 rows × 7 columns</p>\n",
       "</div>"
      ],
      "text/plain": [
       "                 user_id                                          helpful  \\\n",
       "0      76561197970982479                                   No ratings yet   \n",
       "1      76561197970982479                                   No ratings yet   \n",
       "2      76561197970982479                                   No ratings yet   \n",
       "3                js41637  15 of 20 people (75%) found this review helpful   \n",
       "4                js41637     0 of 1 people (0%) found this review helpful   \n",
       "...                  ...                                              ...   \n",
       "59300  76561198312638244                                   No ratings yet   \n",
       "59301  76561198312638244                                   No ratings yet   \n",
       "59302        LydiaMorley    1 of 2 people (50%) found this review helpful   \n",
       "59303        LydiaMorley                                   No ratings yet   \n",
       "59304        LydiaMorley                                   No ratings yet   \n",
       "\n",
       "        item_id                     posted  recommend  polarity  sentiment  \n",
       "0        1250.0   Posted November 5, 2011.       True  0.174444          2  \n",
       "1       22200.0      Posted July 15, 2011.       True  0.337500          2  \n",
       "2       43110.0     Posted April 21, 2011.       True  0.050000          2  \n",
       "3      251610.0      Posted June 24, 2014.       True  0.114583          2  \n",
       "4      227300.0  Posted September 8, 2013.       True -0.036111          0  \n",
       "...         ...                        ...        ...       ...        ...  \n",
       "59300      70.0            Posted July 10.       True  0.233333          2  \n",
       "59301  362890.0             Posted July 8.       True  0.142500          2  \n",
       "59302  273110.0             Posted July 3.       True  0.087500          2  \n",
       "59303     730.0            Posted July 20.       True  1.000000          2  \n",
       "59304     440.0             Posted July 2.       True  0.650000          2  \n",
       "\n",
       "[59305 rows x 7 columns]"
      ]
     },
     "execution_count": 26,
     "metadata": {},
     "output_type": "execute_result"
    }
   ],
   "source": [
    "df1['posted'] = df1['posted'].astype(str)\n",
    "df1"
   ]
  },
  {
   "cell_type": "markdown",
   "id": "225aeaef",
   "metadata": {},
   "source": [
    "Se revisa el dataframe"
   ]
  },
  {
   "cell_type": "code",
   "execution_count": 27,
   "id": "7e67bc98-161d-4fdf-9f7f-16b2810bd073",
   "metadata": {
    "tags": []
   },
   "outputs": [
    {
     "name": "stderr",
     "output_type": "stream",
     "text": [
      "C:\\Users\\Administrador\\AppData\\Roaming\\Python\\Python37\\site-packages\\ipykernel_launcher.py:23: FutureWarning: The default value of regex will change from True to False in a future version. In addition, single character regular expressions will *not* be treated as literal strings when regex=True.\n"
     ]
    }
   ],
   "source": [
    "# Reemplaza 'df' con el nombre real de tu DataFrame y 'columna_texto' con el nombre de la columna que deseas modificar\n",
    "df1['posted'] = df1['posted'].str.replace('Posted', '', case=False)\n",
    "\n",
    "\n",
    "# Reemplaza 'df' con el nombre real de tu DataFrame y 'columna_texto' con el nombre de la columna que deseas modificar\n",
    "palabras_a_eliminar = [    \"January\",\n",
    "    \"February\",\n",
    "    \"March\",\n",
    "    \"April\",\n",
    "    \"May\",\n",
    "    \"June\",\n",
    "    \"July\",\n",
    "    \"August\",\n",
    "    \"September\",\n",
    "    \"October\",\n",
    "    \"November\",\n",
    "    \"December\"]\n",
    "\n",
    "for palabra in palabras_a_eliminar:\n",
    "    df1['posted'] = df1['posted'].str.replace(palabra, ' ', case=False)\n",
    "\n",
    "df1['posted'] = df1['posted'].str.replace(',', '-', case=False)\n",
    "df1['posted'] = df1['posted'].str.replace('.', '', case=False)\n",
    "\n",
    "# Divide la columna 'posted' por el guion y selecciona la segunda parte\n",
    "df1['posted'] = df1['posted'].str.split('-').str[1]\n",
    "\n",
    "# Convierte la columna 'posted' a tipo numérico si es necesario\n",
    "df1['posted'] = pd.to_numeric(df1['posted'], errors='coerce')\n"
   ]
  },
  {
   "cell_type": "markdown",
   "id": "f0468473",
   "metadata": {},
   "source": [
    "Se elimina los datos NaN de la columna 'posted'"
   ]
  },
  {
   "cell_type": "code",
   "execution_count": 28,
   "id": "b389d871-0af6-4f88-af68-594b9483dadb",
   "metadata": {
    "tags": []
   },
   "outputs": [],
   "source": [
    "df1.dropna(subset = ['posted'], inplace= True)"
   ]
  },
  {
   "cell_type": "markdown",
   "id": "e5bec502",
   "metadata": {},
   "source": [
    "Se convierte en entero los registros de la columna 'posted'"
   ]
  },
  {
   "cell_type": "code",
   "execution_count": 29,
   "id": "a4707a85-e0b8-462d-bfc5-37ac95395b1f",
   "metadata": {
    "tags": []
   },
   "outputs": [],
   "source": [
    "df1['posted'] = df1['posted'].astype(int)"
   ]
  },
  {
   "cell_type": "markdown",
   "id": "eda8e59f",
   "metadata": {},
   "source": [
    "Se filtra los registros que son recomendados"
   ]
  },
  {
   "cell_type": "code",
   "execution_count": 30,
   "id": "496b4b36-9cb9-403b-8a45-06abdccbab94",
   "metadata": {
    "tags": []
   },
   "outputs": [],
   "source": [
    "df1_recommend_false = df1[df1['recommend'] == False]"
   ]
  },
  {
   "cell_type": "markdown",
   "id": "eff335e6",
   "metadata": {},
   "source": [
    "del dataframe creado, filtra las columnas 'posted', 'item_id', 'sentiment'"
   ]
  },
  {
   "cell_type": "code",
   "execution_count": 31,
   "id": "e18a513c-950a-4fdd-9873-14abac755fff",
   "metadata": {
    "tags": []
   },
   "outputs": [],
   "source": [
    "df1_recommend_false = df1_recommend_false [[ 'posted', 'item_id', 'sentiment']]"
   ]
  },
  {
   "cell_type": "markdown",
   "id": "1015608f",
   "metadata": {},
   "source": [
    "Renombra la columna 'item_id'"
   ]
  },
  {
   "cell_type": "code",
   "execution_count": 32,
   "id": "e078af2b-5d6f-4b21-bf89-8d7aa09167dd",
   "metadata": {
    "tags": []
   },
   "outputs": [],
   "source": [
    "df1_recommend_false.rename(columns={'item_id': 'id'}, inplace=True)"
   ]
  },
  {
   "cell_type": "markdown",
   "id": "aa1b31c1",
   "metadata": {},
   "source": [
    "Revisa el dataframe creado"
   ]
  },
  {
   "cell_type": "code",
   "execution_count": 33,
   "id": "3fe5b354-8b41-4a28-9e9d-87bedb2418dd",
   "metadata": {
    "tags": []
   },
   "outputs": [
    {
     "data": {
      "text/html": [
       "<div>\n",
       "<style scoped>\n",
       "    .dataframe tbody tr th:only-of-type {\n",
       "        vertical-align: middle;\n",
       "    }\n",
       "\n",
       "    .dataframe tbody tr th {\n",
       "        vertical-align: top;\n",
       "    }\n",
       "\n",
       "    .dataframe thead th {\n",
       "        text-align: right;\n",
       "    }\n",
       "</style>\n",
       "<table border=\"1\" class=\"dataframe\">\n",
       "  <thead>\n",
       "    <tr style=\"text-align: right;\">\n",
       "      <th></th>\n",
       "      <th>posted</th>\n",
       "      <th>id</th>\n",
       "      <th>sentiment</th>\n",
       "    </tr>\n",
       "  </thead>\n",
       "  <tbody>\n",
       "    <tr>\n",
       "      <th>48</th>\n",
       "      <td>2014</td>\n",
       "      <td>33440.0</td>\n",
       "      <td>0</td>\n",
       "    </tr>\n",
       "    <tr>\n",
       "      <th>62</th>\n",
       "      <td>2015</td>\n",
       "      <td>359320.0</td>\n",
       "      <td>0</td>\n",
       "    </tr>\n",
       "    <tr>\n",
       "      <th>68</th>\n",
       "      <td>2014</td>\n",
       "      <td>570.0</td>\n",
       "      <td>1</td>\n",
       "    </tr>\n",
       "    <tr>\n",
       "      <th>84</th>\n",
       "      <td>2015</td>\n",
       "      <td>383080.0</td>\n",
       "      <td>1</td>\n",
       "    </tr>\n",
       "    <tr>\n",
       "      <th>122</th>\n",
       "      <td>2015</td>\n",
       "      <td>417860.0</td>\n",
       "      <td>1</td>\n",
       "    </tr>\n",
       "    <tr>\n",
       "      <th>...</th>\n",
       "      <td>...</td>\n",
       "      <td>...</td>\n",
       "      <td>...</td>\n",
       "    </tr>\n",
       "    <tr>\n",
       "      <th>59087</th>\n",
       "      <td>2015</td>\n",
       "      <td>295110.0</td>\n",
       "      <td>0</td>\n",
       "    </tr>\n",
       "    <tr>\n",
       "      <th>59144</th>\n",
       "      <td>2015</td>\n",
       "      <td>311210.0</td>\n",
       "      <td>0</td>\n",
       "    </tr>\n",
       "    <tr>\n",
       "      <th>59166</th>\n",
       "      <td>2015</td>\n",
       "      <td>305920.0</td>\n",
       "      <td>0</td>\n",
       "    </tr>\n",
       "    <tr>\n",
       "      <th>59225</th>\n",
       "      <td>2015</td>\n",
       "      <td>370240.0</td>\n",
       "      <td>0</td>\n",
       "    </tr>\n",
       "    <tr>\n",
       "      <th>59244</th>\n",
       "      <td>2015</td>\n",
       "      <td>391460.0</td>\n",
       "      <td>1</td>\n",
       "    </tr>\n",
       "  </tbody>\n",
       "</table>\n",
       "<p>5004 rows × 3 columns</p>\n",
       "</div>"
      ],
      "text/plain": [
       "       posted        id  sentiment\n",
       "48       2014   33440.0          0\n",
       "62       2015  359320.0          0\n",
       "68       2014     570.0          1\n",
       "84       2015  383080.0          1\n",
       "122      2015  417860.0          1\n",
       "...       ...       ...        ...\n",
       "59087    2015  295110.0          0\n",
       "59144    2015  311210.0          0\n",
       "59166    2015  305920.0          0\n",
       "59225    2015  370240.0          0\n",
       "59244    2015  391460.0          1\n",
       "\n",
       "[5004 rows x 3 columns]"
      ]
     },
     "execution_count": 33,
     "metadata": {},
     "output_type": "execute_result"
    }
   ],
   "source": [
    "df1_recommend_false"
   ]
  },
  {
   "cell_type": "markdown",
   "id": "09821f04",
   "metadata": {},
   "source": [
    "Reemplacemos los valores en la columna 'sentiment' del DataFrame df1_recommend_false. Específicamente, reemplaza todos los valores iguales a 0 con el valor 2."
   ]
  },
  {
   "cell_type": "code",
   "execution_count": 34,
   "id": "ba6095db-b938-458c-847b-7f4168b3b471",
   "metadata": {
    "tags": []
   },
   "outputs": [],
   "source": [
    "df1_recommend_false['sentiment'] = df1_recommend_false['sentiment'].replace(0, 2)\n"
   ]
  },
  {
   "cell_type": "markdown",
   "id": "e9180fd2",
   "metadata": {},
   "source": [
    "Revisemos el dataframe transformado."
   ]
  },
  {
   "cell_type": "code",
   "execution_count": 35,
   "id": "1c52875f-43d2-4222-b961-62fb7132384e",
   "metadata": {
    "tags": []
   },
   "outputs": [
    {
     "data": {
      "text/html": [
       "<div>\n",
       "<style scoped>\n",
       "    .dataframe tbody tr th:only-of-type {\n",
       "        vertical-align: middle;\n",
       "    }\n",
       "\n",
       "    .dataframe tbody tr th {\n",
       "        vertical-align: top;\n",
       "    }\n",
       "\n",
       "    .dataframe thead th {\n",
       "        text-align: right;\n",
       "    }\n",
       "</style>\n",
       "<table border=\"1\" class=\"dataframe\">\n",
       "  <thead>\n",
       "    <tr style=\"text-align: right;\">\n",
       "      <th></th>\n",
       "      <th>posted</th>\n",
       "      <th>id</th>\n",
       "      <th>sentiment</th>\n",
       "    </tr>\n",
       "  </thead>\n",
       "  <tbody>\n",
       "    <tr>\n",
       "      <th>48</th>\n",
       "      <td>2014</td>\n",
       "      <td>33440.0</td>\n",
       "      <td>2</td>\n",
       "    </tr>\n",
       "    <tr>\n",
       "      <th>62</th>\n",
       "      <td>2015</td>\n",
       "      <td>359320.0</td>\n",
       "      <td>2</td>\n",
       "    </tr>\n",
       "    <tr>\n",
       "      <th>68</th>\n",
       "      <td>2014</td>\n",
       "      <td>570.0</td>\n",
       "      <td>1</td>\n",
       "    </tr>\n",
       "    <tr>\n",
       "      <th>84</th>\n",
       "      <td>2015</td>\n",
       "      <td>383080.0</td>\n",
       "      <td>1</td>\n",
       "    </tr>\n",
       "    <tr>\n",
       "      <th>122</th>\n",
       "      <td>2015</td>\n",
       "      <td>417860.0</td>\n",
       "      <td>1</td>\n",
       "    </tr>\n",
       "    <tr>\n",
       "      <th>...</th>\n",
       "      <td>...</td>\n",
       "      <td>...</td>\n",
       "      <td>...</td>\n",
       "    </tr>\n",
       "    <tr>\n",
       "      <th>59087</th>\n",
       "      <td>2015</td>\n",
       "      <td>295110.0</td>\n",
       "      <td>2</td>\n",
       "    </tr>\n",
       "    <tr>\n",
       "      <th>59144</th>\n",
       "      <td>2015</td>\n",
       "      <td>311210.0</td>\n",
       "      <td>2</td>\n",
       "    </tr>\n",
       "    <tr>\n",
       "      <th>59166</th>\n",
       "      <td>2015</td>\n",
       "      <td>305920.0</td>\n",
       "      <td>2</td>\n",
       "    </tr>\n",
       "    <tr>\n",
       "      <th>59225</th>\n",
       "      <td>2015</td>\n",
       "      <td>370240.0</td>\n",
       "      <td>2</td>\n",
       "    </tr>\n",
       "    <tr>\n",
       "      <th>59244</th>\n",
       "      <td>2015</td>\n",
       "      <td>391460.0</td>\n",
       "      <td>1</td>\n",
       "    </tr>\n",
       "  </tbody>\n",
       "</table>\n",
       "<p>5004 rows × 3 columns</p>\n",
       "</div>"
      ],
      "text/plain": [
       "       posted        id  sentiment\n",
       "48       2014   33440.0          2\n",
       "62       2015  359320.0          2\n",
       "68       2014     570.0          1\n",
       "84       2015  383080.0          1\n",
       "122      2015  417860.0          1\n",
       "...       ...       ...        ...\n",
       "59087    2015  295110.0          2\n",
       "59144    2015  311210.0          2\n",
       "59166    2015  305920.0          2\n",
       "59225    2015  370240.0          2\n",
       "59244    2015  391460.0          1\n",
       "\n",
       "[5004 rows x 3 columns]"
      ]
     },
     "execution_count": 35,
     "metadata": {},
     "output_type": "execute_result"
    }
   ],
   "source": [
    "df1_recommend_false"
   ]
  },
  {
   "cell_type": "markdown",
   "id": "672b4572",
   "metadata": {},
   "source": [
    "creamos un DataFrame que contiene el total de sentimientos agrupados por año y por identificador ('id'), luego ordena este DataFrame en función del total de sentimientos de mayor a menor. Esto te daría una idea de cuáles son los productos menos recomendados o con menos sentimientos positivos en cada año"
   ]
  },
  {
   "cell_type": "code",
   "execution_count": 36,
   "id": "8c1f91e9-e336-4c65-9374-0ece9aeb71ea",
   "metadata": {
    "tags": []
   },
   "outputs": [],
   "source": [
    "df_menos_recomendado_x_anio = df1_recommend_false.groupby(['posted', 'id'])['sentiment'].sum().reset_index()\n",
    "\n",
    "# Ordena de mayor a menor\n",
    "df_menos_recomendado_x_anio = df_menos_recomendado_x_anio.sort_values(by='sentiment', ascending=False)"
   ]
  },
  {
   "cell_type": "markdown",
   "id": "5cef7b43",
   "metadata": {},
   "source": [
    "Revisamos el dataframe resultante"
   ]
  },
  {
   "cell_type": "code",
   "execution_count": 37,
   "id": "f4e645dc-982e-4ed0-ac65-1e8b0f7d4ada",
   "metadata": {
    "tags": []
   },
   "outputs": [
    {
     "data": {
      "text/html": [
       "<div>\n",
       "<style scoped>\n",
       "    .dataframe tbody tr th:only-of-type {\n",
       "        vertical-align: middle;\n",
       "    }\n",
       "\n",
       "    .dataframe tbody tr th {\n",
       "        vertical-align: top;\n",
       "    }\n",
       "\n",
       "    .dataframe thead th {\n",
       "        text-align: right;\n",
       "    }\n",
       "</style>\n",
       "<table border=\"1\" class=\"dataframe\">\n",
       "  <thead>\n",
       "    <tr style=\"text-align: right;\">\n",
       "      <th></th>\n",
       "      <th>posted</th>\n",
       "      <th>id</th>\n",
       "      <th>sentiment</th>\n",
       "    </tr>\n",
       "  </thead>\n",
       "  <tbody>\n",
       "    <tr>\n",
       "      <th>1044</th>\n",
       "      <td>2015</td>\n",
       "      <td>218620.0</td>\n",
       "      <td>265</td>\n",
       "    </tr>\n",
       "    <tr>\n",
       "      <th>827</th>\n",
       "      <td>2015</td>\n",
       "      <td>730.0</td>\n",
       "      <td>228</td>\n",
       "    </tr>\n",
       "    <tr>\n",
       "      <th>1056</th>\n",
       "      <td>2015</td>\n",
       "      <td>221100.0</td>\n",
       "      <td>133</td>\n",
       "    </tr>\n",
       "    <tr>\n",
       "      <th>480</th>\n",
       "      <td>2014</td>\n",
       "      <td>221100.0</td>\n",
       "      <td>112</td>\n",
       "    </tr>\n",
       "    <tr>\n",
       "      <th>187</th>\n",
       "      <td>2014</td>\n",
       "      <td>730.0</td>\n",
       "      <td>91</td>\n",
       "    </tr>\n",
       "    <tr>\n",
       "      <th>...</th>\n",
       "      <td>...</td>\n",
       "      <td>...</td>\n",
       "      <td>...</td>\n",
       "    </tr>\n",
       "    <tr>\n",
       "      <th>193</th>\n",
       "      <td>2014</td>\n",
       "      <td>2450.0</td>\n",
       "      <td>1</td>\n",
       "    </tr>\n",
       "    <tr>\n",
       "      <th>1495</th>\n",
       "      <td>2015</td>\n",
       "      <td>344740.0</td>\n",
       "      <td>1</td>\n",
       "    </tr>\n",
       "    <tr>\n",
       "      <th>191</th>\n",
       "      <td>2014</td>\n",
       "      <td>1900.0</td>\n",
       "      <td>1</td>\n",
       "    </tr>\n",
       "    <tr>\n",
       "      <th>815</th>\n",
       "      <td>2015</td>\n",
       "      <td>30.0</td>\n",
       "      <td>1</td>\n",
       "    </tr>\n",
       "    <tr>\n",
       "      <th>1115</th>\n",
       "      <td>2015</td>\n",
       "      <td>235070.0</td>\n",
       "      <td>1</td>\n",
       "    </tr>\n",
       "  </tbody>\n",
       "</table>\n",
       "<p>1645 rows × 3 columns</p>\n",
       "</div>"
      ],
      "text/plain": [
       "      posted        id  sentiment\n",
       "1044    2015  218620.0        265\n",
       "827     2015     730.0        228\n",
       "1056    2015  221100.0        133\n",
       "480     2014  221100.0        112\n",
       "187     2014     730.0         91\n",
       "...      ...       ...        ...\n",
       "193     2014    2450.0          1\n",
       "1495    2015  344740.0          1\n",
       "191     2014    1900.0          1\n",
       "815     2015      30.0          1\n",
       "1115    2015  235070.0          1\n",
       "\n",
       "[1645 rows x 3 columns]"
      ]
     },
     "execution_count": 37,
     "metadata": {},
     "output_type": "execute_result"
    }
   ],
   "source": [
    "df_menos_recomendado_x_anio"
   ]
  },
  {
   "cell_type": "markdown",
   "id": "a425c064",
   "metadata": {},
   "source": [
    "leemos el archivo csv que pertenece a 'steam games'"
   ]
  },
  {
   "cell_type": "code",
   "execution_count": 38,
   "id": "bec2204f-6350-4083-9d48-f34fd48178d2",
   "metadata": {
    "tags": []
   },
   "outputs": [
    {
     "name": "stderr",
     "output_type": "stream",
     "text": [
      "C:\\Users\\Administrador\\AppData\\Roaming\\Python\\Python37\\site-packages\\IPython\\core\\interactiveshell.py:3553: DtypeWarning: Columns (0,1,2,3,4,5,6,7,8,9,10,12) have mixed types.Specify dtype option on import or set low_memory=False.\n",
      "  exec(code_obj, self.user_global_ns, self.user_ns)\n"
     ]
    },
    {
     "data": {
      "text/html": [
       "<div>\n",
       "<style scoped>\n",
       "    .dataframe tbody tr th:only-of-type {\n",
       "        vertical-align: middle;\n",
       "    }\n",
       "\n",
       "    .dataframe tbody tr th {\n",
       "        vertical-align: top;\n",
       "    }\n",
       "\n",
       "    .dataframe thead th {\n",
       "        text-align: right;\n",
       "    }\n",
       "</style>\n",
       "<table border=\"1\" class=\"dataframe\">\n",
       "  <thead>\n",
       "    <tr style=\"text-align: right;\">\n",
       "      <th></th>\n",
       "      <th>app_name</th>\n",
       "      <th>id</th>\n",
       "    </tr>\n",
       "  </thead>\n",
       "  <tbody>\n",
       "    <tr>\n",
       "      <th>0</th>\n",
       "      <td>NaN</td>\n",
       "      <td>NaN</td>\n",
       "    </tr>\n",
       "    <tr>\n",
       "      <th>1</th>\n",
       "      <td>NaN</td>\n",
       "      <td>NaN</td>\n",
       "    </tr>\n",
       "    <tr>\n",
       "      <th>2</th>\n",
       "      <td>NaN</td>\n",
       "      <td>NaN</td>\n",
       "    </tr>\n",
       "    <tr>\n",
       "      <th>3</th>\n",
       "      <td>NaN</td>\n",
       "      <td>NaN</td>\n",
       "    </tr>\n",
       "    <tr>\n",
       "      <th>4</th>\n",
       "      <td>NaN</td>\n",
       "      <td>NaN</td>\n",
       "    </tr>\n",
       "    <tr>\n",
       "      <th>...</th>\n",
       "      <td>...</td>\n",
       "      <td>...</td>\n",
       "    </tr>\n",
       "    <tr>\n",
       "      <th>120440</th>\n",
       "      <td>Colony On Mars</td>\n",
       "      <td>773640.0</td>\n",
       "    </tr>\n",
       "    <tr>\n",
       "      <th>120441</th>\n",
       "      <td>LOGistICAL: South Africa</td>\n",
       "      <td>733530.0</td>\n",
       "    </tr>\n",
       "    <tr>\n",
       "      <th>120442</th>\n",
       "      <td>Russian Roads</td>\n",
       "      <td>610660.0</td>\n",
       "    </tr>\n",
       "    <tr>\n",
       "      <th>120443</th>\n",
       "      <td>EXIT 2 - Directions</td>\n",
       "      <td>658870.0</td>\n",
       "    </tr>\n",
       "    <tr>\n",
       "      <th>120444</th>\n",
       "      <td>Maze Run VR</td>\n",
       "      <td>681550.0</td>\n",
       "    </tr>\n",
       "  </tbody>\n",
       "</table>\n",
       "<p>120445 rows × 2 columns</p>\n",
       "</div>"
      ],
      "text/plain": [
       "                        app_name        id\n",
       "0                            NaN       NaN\n",
       "1                            NaN       NaN\n",
       "2                            NaN       NaN\n",
       "3                            NaN       NaN\n",
       "4                            NaN       NaN\n",
       "...                          ...       ...\n",
       "120440            Colony On Mars  773640.0\n",
       "120441  LOGistICAL: South Africa  733530.0\n",
       "120442             Russian Roads  610660.0\n",
       "120443       EXIT 2 - Directions  658870.0\n",
       "120444               Maze Run VR  681550.0\n",
       "\n",
       "[120445 rows x 2 columns]"
      ]
     },
     "execution_count": 38,
     "metadata": {},
     "output_type": "execute_result"
    }
   ],
   "source": [
    "df2 = pd.read_csv('steam_games.csv')\n",
    "df2 = df2[['app_name','id']]\n",
    "df2"
   ]
  },
  {
   "cell_type": "markdown",
   "id": "39e26eef",
   "metadata": {},
   "source": [
    "Hacemos merge del dataframe tratado anteriormente y 'steam games'"
   ]
  },
  {
   "cell_type": "code",
   "execution_count": 39,
   "id": "595619ff-86eb-4110-acb0-a0fc4116772c",
   "metadata": {
    "tags": []
   },
   "outputs": [
    {
     "data": {
      "text/html": [
       "<div>\n",
       "<style scoped>\n",
       "    .dataframe tbody tr th:only-of-type {\n",
       "        vertical-align: middle;\n",
       "    }\n",
       "\n",
       "    .dataframe tbody tr th {\n",
       "        vertical-align: top;\n",
       "    }\n",
       "\n",
       "    .dataframe thead th {\n",
       "        text-align: right;\n",
       "    }\n",
       "</style>\n",
       "<table border=\"1\" class=\"dataframe\">\n",
       "  <thead>\n",
       "    <tr style=\"text-align: right;\">\n",
       "      <th></th>\n",
       "      <th>posted</th>\n",
       "      <th>id</th>\n",
       "      <th>sentiment</th>\n",
       "      <th>app_name</th>\n",
       "    </tr>\n",
       "  </thead>\n",
       "  <tbody>\n",
       "    <tr>\n",
       "      <th>0</th>\n",
       "      <td>2015</td>\n",
       "      <td>218620.0</td>\n",
       "      <td>265</td>\n",
       "      <td>PAYDAY 2</td>\n",
       "    </tr>\n",
       "    <tr>\n",
       "      <th>1</th>\n",
       "      <td>2015</td>\n",
       "      <td>730.0</td>\n",
       "      <td>228</td>\n",
       "      <td>Counter-Strike: Global Offensive</td>\n",
       "    </tr>\n",
       "    <tr>\n",
       "      <th>2</th>\n",
       "      <td>2015</td>\n",
       "      <td>221100.0</td>\n",
       "      <td>133</td>\n",
       "      <td>DayZ</td>\n",
       "    </tr>\n",
       "    <tr>\n",
       "      <th>3</th>\n",
       "      <td>2014</td>\n",
       "      <td>221100.0</td>\n",
       "      <td>112</td>\n",
       "      <td>DayZ</td>\n",
       "    </tr>\n",
       "    <tr>\n",
       "      <th>4</th>\n",
       "      <td>2014</td>\n",
       "      <td>730.0</td>\n",
       "      <td>91</td>\n",
       "      <td>Counter-Strike: Global Offensive</td>\n",
       "    </tr>\n",
       "    <tr>\n",
       "      <th>...</th>\n",
       "      <td>...</td>\n",
       "      <td>...</td>\n",
       "      <td>...</td>\n",
       "      <td>...</td>\n",
       "    </tr>\n",
       "    <tr>\n",
       "      <th>1640</th>\n",
       "      <td>2014</td>\n",
       "      <td>2450.0</td>\n",
       "      <td>1</td>\n",
       "      <td>Bloody Good Time</td>\n",
       "    </tr>\n",
       "    <tr>\n",
       "      <th>1641</th>\n",
       "      <td>2015</td>\n",
       "      <td>344740.0</td>\n",
       "      <td>1</td>\n",
       "      <td>CRYPTARK</td>\n",
       "    </tr>\n",
       "    <tr>\n",
       "      <th>1642</th>\n",
       "      <td>2014</td>\n",
       "      <td>1900.0</td>\n",
       "      <td>1</td>\n",
       "      <td>Earth 2160</td>\n",
       "    </tr>\n",
       "    <tr>\n",
       "      <th>1643</th>\n",
       "      <td>2015</td>\n",
       "      <td>30.0</td>\n",
       "      <td>1</td>\n",
       "      <td>Day of Defeat</td>\n",
       "    </tr>\n",
       "    <tr>\n",
       "      <th>1644</th>\n",
       "      <td>2015</td>\n",
       "      <td>235070.0</td>\n",
       "      <td>1</td>\n",
       "      <td>Bad Bots</td>\n",
       "    </tr>\n",
       "  </tbody>\n",
       "</table>\n",
       "<p>1645 rows × 4 columns</p>\n",
       "</div>"
      ],
      "text/plain": [
       "      posted        id  sentiment                          app_name\n",
       "0       2015  218620.0        265                          PAYDAY 2\n",
       "1       2015     730.0        228  Counter-Strike: Global Offensive\n",
       "2       2015  221100.0        133                              DayZ\n",
       "3       2014  221100.0        112                              DayZ\n",
       "4       2014     730.0         91  Counter-Strike: Global Offensive\n",
       "...      ...       ...        ...                               ...\n",
       "1640    2014    2450.0          1                  Bloody Good Time\n",
       "1641    2015  344740.0          1                          CRYPTARK\n",
       "1642    2014    1900.0          1                        Earth 2160\n",
       "1643    2015      30.0          1                     Day of Defeat\n",
       "1644    2015  235070.0          1                          Bad Bots\n",
       "\n",
       "[1645 rows x 4 columns]"
      ]
     },
     "execution_count": 39,
     "metadata": {},
     "output_type": "execute_result"
    }
   ],
   "source": [
    "df_menos_recomendado_x_anio = df_menos_recomendado_x_anio.merge(df2, on='id', how='left')\n",
    "df_menos_recomendado_x_anio"
   ]
  },
  {
   "cell_type": "markdown",
   "id": "b66d0ab2",
   "metadata": {},
   "source": [
    "Elimina datos NaN en el dataframe en la columna 'app_name'"
   ]
  },
  {
   "cell_type": "code",
   "execution_count": 40,
   "id": "2807b41c-ab52-4183-9697-44a90930a7c4",
   "metadata": {
    "tags": []
   },
   "outputs": [],
   "source": [
    "df_menos_recomendado_x_anio.dropna(subset=[\"app_name\"], inplace=True)\n"
   ]
  },
  {
   "cell_type": "markdown",
   "id": "cd49aab2",
   "metadata": {},
   "source": [
    "Revisamos los años en el dataframe"
   ]
  },
  {
   "cell_type": "code",
   "execution_count": 41,
   "id": "9016c51d-c927-4a8b-b09f-6b8c2e676a1d",
   "metadata": {
    "tags": []
   },
   "outputs": [
    {
     "data": {
      "text/plain": [
       "array([2015, 2014, 2013, 2011, 2010, 2012], dtype=int64)"
      ]
     },
     "execution_count": 41,
     "metadata": {},
     "output_type": "execute_result"
    }
   ],
   "source": [
    "años = df_menos_recomendado_x_anio['posted'].unique()\n",
    "años\n"
   ]
  },
  {
   "cell_type": "markdown",
   "id": "cf28d1b2",
   "metadata": {},
   "source": [
    "encontramos los tres IDs con los puntajes de 'sentiment' más altos para cada año en la lista años_interés y los almacena en un DataFrame result_df para su posterior análisis o visualización."
   ]
  },
  {
   "cell_type": "code",
   "execution_count": 42,
   "id": "16c6ad5b-5b2d-4691-92dd-2eeeddca513e",
   "metadata": {
    "tags": []
   },
   "outputs": [
    {
     "name": "stdout",
     "output_type": "stream",
     "text": [
      "   posted        id sentiment                          app_name\n",
      "0    2014  221100.0       112                              DayZ\n",
      "1    2014     730.0        91  Counter-Strike: Global Offensive\n",
      "2    2014     570.0        70                            Dota 2\n",
      "3    2015  218620.0       265                          PAYDAY 2\n",
      "4    2015     730.0       228  Counter-Strike: Global Offensive\n",
      "5    2015  221100.0       133                              DayZ\n",
      "6    2013  209160.0        26             Call of Duty®: Ghosts\n",
      "7    2013     440.0        21                   Team Fortress 2\n",
      "8    2013  224540.0        19     Ace of Spades: Battle Builder\n",
      "9    2012  209870.0         2           Blacklight: Retribution\n",
      "10   2012     440.0         2                   Team Fortress 2\n",
      "11   2012     570.0         2                            Dota 2\n",
      "12   2011   18700.0         4                  And Yet It Moves\n",
      "13   2011     440.0         3                   Team Fortress 2\n",
      "14   2011   33460.0         2                         From Dust\n",
      "15   2010     440.0         2                   Team Fortress 2\n"
     ]
    }
   ],
   "source": [
    "años_interés = [2014, 2015, 2013, 2012, 2011, 2010]\n",
    "\n",
    "# Crear un DataFrame vacío para almacenar los resultados\n",
    "result_df = pd.DataFrame(columns=['posted', 'id', 'sentiment'])\n",
    "\n",
    "# Iterar a través de cada año y obtener los tres IDs con el puntaje de \"sentiment\" NEGATIVO más alto\n",
    "for año in años_interés:\n",
    "    df_año = df_menos_recomendado_x_anio[df_menos_recomendado_x_anio['posted'] == año]\n",
    "    top_3_ids = df_año.nlargest(3, 'sentiment')\n",
    "    result_df = pd.concat([result_df, top_3_ids], ignore_index=True)\n",
    "\n",
    "\n",
    "# Restablecer el índice del DataFrame resultante\n",
    "result_df.reset_index(drop=True, inplace=True)\n",
    "\n",
    "# Muestra el resultado\n",
    "print(result_df)\n"
   ]
  },
  {
   "cell_type": "markdown",
   "id": "584f6262",
   "metadata": {},
   "source": [
    "Guardamos el dataframe resultado en el archivo csv."
   ]
  },
  {
   "cell_type": "code",
   "execution_count": 43,
   "id": "86228574-4782-48fe-8bbc-bf726d2b5305",
   "metadata": {
    "tags": []
   },
   "outputs": [],
   "source": [
    "result_df.to_csv('Funcion_4_jup.csv')"
   ]
  },
  {
   "cell_type": "markdown",
   "id": "75273281",
   "metadata": {},
   "source": [
    "Haciendo un ejercicio de verificación..."
   ]
  },
  {
   "cell_type": "code",
   "execution_count": 44,
   "id": "0890a757-ff23-421f-a582-40f5e62a86cc",
   "metadata": {
    "tags": []
   },
   "outputs": [
    {
     "data": {
      "text/html": [
       "<div>\n",
       "<style scoped>\n",
       "    .dataframe tbody tr th:only-of-type {\n",
       "        vertical-align: middle;\n",
       "    }\n",
       "\n",
       "    .dataframe tbody tr th {\n",
       "        vertical-align: top;\n",
       "    }\n",
       "\n",
       "    .dataframe thead th {\n",
       "        text-align: right;\n",
       "    }\n",
       "</style>\n",
       "<table border=\"1\" class=\"dataframe\">\n",
       "  <thead>\n",
       "    <tr style=\"text-align: right;\">\n",
       "      <th></th>\n",
       "      <th>Unnamed: 0</th>\n",
       "      <th>posted</th>\n",
       "      <th>id</th>\n",
       "      <th>sentiment</th>\n",
       "      <th>app_name</th>\n",
       "    </tr>\n",
       "  </thead>\n",
       "  <tbody>\n",
       "    <tr>\n",
       "      <th>0</th>\n",
       "      <td>0</td>\n",
       "      <td>2014</td>\n",
       "      <td>221100.0</td>\n",
       "      <td>112</td>\n",
       "      <td>DayZ</td>\n",
       "    </tr>\n",
       "    <tr>\n",
       "      <th>1</th>\n",
       "      <td>1</td>\n",
       "      <td>2014</td>\n",
       "      <td>730.0</td>\n",
       "      <td>91</td>\n",
       "      <td>Counter-Strike: Global Offensive</td>\n",
       "    </tr>\n",
       "    <tr>\n",
       "      <th>2</th>\n",
       "      <td>2</td>\n",
       "      <td>2014</td>\n",
       "      <td>570.0</td>\n",
       "      <td>70</td>\n",
       "      <td>Dota 2</td>\n",
       "    </tr>\n",
       "    <tr>\n",
       "      <th>3</th>\n",
       "      <td>3</td>\n",
       "      <td>2015</td>\n",
       "      <td>218620.0</td>\n",
       "      <td>265</td>\n",
       "      <td>PAYDAY 2</td>\n",
       "    </tr>\n",
       "    <tr>\n",
       "      <th>4</th>\n",
       "      <td>4</td>\n",
       "      <td>2015</td>\n",
       "      <td>730.0</td>\n",
       "      <td>228</td>\n",
       "      <td>Counter-Strike: Global Offensive</td>\n",
       "    </tr>\n",
       "    <tr>\n",
       "      <th>5</th>\n",
       "      <td>5</td>\n",
       "      <td>2015</td>\n",
       "      <td>221100.0</td>\n",
       "      <td>133</td>\n",
       "      <td>DayZ</td>\n",
       "    </tr>\n",
       "    <tr>\n",
       "      <th>6</th>\n",
       "      <td>6</td>\n",
       "      <td>2013</td>\n",
       "      <td>209160.0</td>\n",
       "      <td>26</td>\n",
       "      <td>Call of Duty®: Ghosts</td>\n",
       "    </tr>\n",
       "    <tr>\n",
       "      <th>7</th>\n",
       "      <td>7</td>\n",
       "      <td>2013</td>\n",
       "      <td>440.0</td>\n",
       "      <td>21</td>\n",
       "      <td>Team Fortress 2</td>\n",
       "    </tr>\n",
       "    <tr>\n",
       "      <th>8</th>\n",
       "      <td>8</td>\n",
       "      <td>2013</td>\n",
       "      <td>224540.0</td>\n",
       "      <td>19</td>\n",
       "      <td>Ace of Spades: Battle Builder</td>\n",
       "    </tr>\n",
       "    <tr>\n",
       "      <th>9</th>\n",
       "      <td>9</td>\n",
       "      <td>2012</td>\n",
       "      <td>209870.0</td>\n",
       "      <td>2</td>\n",
       "      <td>Blacklight: Retribution</td>\n",
       "    </tr>\n",
       "    <tr>\n",
       "      <th>10</th>\n",
       "      <td>10</td>\n",
       "      <td>2012</td>\n",
       "      <td>440.0</td>\n",
       "      <td>2</td>\n",
       "      <td>Team Fortress 2</td>\n",
       "    </tr>\n",
       "    <tr>\n",
       "      <th>11</th>\n",
       "      <td>11</td>\n",
       "      <td>2012</td>\n",
       "      <td>570.0</td>\n",
       "      <td>2</td>\n",
       "      <td>Dota 2</td>\n",
       "    </tr>\n",
       "    <tr>\n",
       "      <th>12</th>\n",
       "      <td>12</td>\n",
       "      <td>2011</td>\n",
       "      <td>18700.0</td>\n",
       "      <td>4</td>\n",
       "      <td>And Yet It Moves</td>\n",
       "    </tr>\n",
       "    <tr>\n",
       "      <th>13</th>\n",
       "      <td>13</td>\n",
       "      <td>2011</td>\n",
       "      <td>440.0</td>\n",
       "      <td>3</td>\n",
       "      <td>Team Fortress 2</td>\n",
       "    </tr>\n",
       "    <tr>\n",
       "      <th>14</th>\n",
       "      <td>14</td>\n",
       "      <td>2011</td>\n",
       "      <td>33460.0</td>\n",
       "      <td>2</td>\n",
       "      <td>From Dust</td>\n",
       "    </tr>\n",
       "    <tr>\n",
       "      <th>15</th>\n",
       "      <td>15</td>\n",
       "      <td>2010</td>\n",
       "      <td>440.0</td>\n",
       "      <td>2</td>\n",
       "      <td>Team Fortress 2</td>\n",
       "    </tr>\n",
       "  </tbody>\n",
       "</table>\n",
       "</div>"
      ],
      "text/plain": [
       "    Unnamed: 0  posted        id  sentiment                          app_name\n",
       "0            0    2014  221100.0        112                              DayZ\n",
       "1            1    2014     730.0         91  Counter-Strike: Global Offensive\n",
       "2            2    2014     570.0         70                            Dota 2\n",
       "3            3    2015  218620.0        265                          PAYDAY 2\n",
       "4            4    2015     730.0        228  Counter-Strike: Global Offensive\n",
       "5            5    2015  221100.0        133                              DayZ\n",
       "6            6    2013  209160.0         26             Call of Duty®: Ghosts\n",
       "7            7    2013     440.0         21                   Team Fortress 2\n",
       "8            8    2013  224540.0         19     Ace of Spades: Battle Builder\n",
       "9            9    2012  209870.0          2           Blacklight: Retribution\n",
       "10          10    2012     440.0          2                   Team Fortress 2\n",
       "11          11    2012     570.0          2                            Dota 2\n",
       "12          12    2011   18700.0          4                  And Yet It Moves\n",
       "13          13    2011     440.0          3                   Team Fortress 2\n",
       "14          14    2011   33460.0          2                         From Dust\n",
       "15          15    2010     440.0          2                   Team Fortress 2"
      ]
     },
     "execution_count": 44,
     "metadata": {},
     "output_type": "execute_result"
    }
   ],
   "source": [
    "users_not_recommend = pd.read_csv('Funcion_4_jup.csv')\n",
    "users_not_recommend"
   ]
  },
  {
   "cell_type": "code",
   "execution_count": 45,
   "id": "d4e69449-30d1-4333-877a-49ba97e4d578",
   "metadata": {
    "tags": []
   },
   "outputs": [],
   "source": [
    "def UsersNotRecommend(posted):\n",
    "    # Filtrar el DataFrame por el año dado\n",
    "    df_año = users_not_recommend[users_not_recommend['posted'] == posted]\n",
    "\n",
    "    # Aplicar las condiciones para obtener el top 3\n",
    "    top_3_df = df_año[(df_año['sentiment'] >= 0) & (df_año['app_name'].notnull())]\n",
    "\n",
    "    # Ordenar el DataFrame por 'sentiment' de mayor a menor\n",
    "    top_3_df = top_3_df.sort_values(by='sentiment', ascending=False).head(3)\n",
    "\n",
    "    # Crear una lista de diccionarios con el top 3\n",
    "    top_3_dict = {}\n",
    "    for i, row in top_3_df.iterrows():\n",
    "        puesto = \"Puesto \" + str(i + 1 - top_3_df.index[0])\n",
    "        top_3_dict[puesto] = row['app_name']\n",
    "\n",
    "    return top_3_dict\n",
    "\n"
   ]
  },
  {
   "cell_type": "code",
   "execution_count": 46,
   "id": "22a127f2-cfd9-4fd6-8b95-e1ed466cdca4",
   "metadata": {
    "tags": []
   },
   "outputs": [
    {
     "data": {
      "text/plain": [
       "{'Puesto 1': 'Team Fortress 2'}"
      ]
     },
     "execution_count": 46,
     "metadata": {},
     "output_type": "execute_result"
    }
   ],
   "source": [
    "# Ejemplo de uso:\n",
    "posted = 2010\n",
    "top_3_juegos = UsersNotRecommend(posted)\n",
    "top_3_juegos"
   ]
  }
 ],
 "metadata": {
  "kernelspec": {
   "display_name": "Python 3 (ipykernel)",
   "language": "python",
   "name": "python3"
  },
  "language_info": {
   "codemirror_mode": {
    "name": "ipython",
    "version": 3
   },
   "file_extension": ".py",
   "mimetype": "text/x-python",
   "name": "python",
   "nbconvert_exporter": "python",
   "pygments_lexer": "ipython3",
   "version": "3.7.8"
  }
 },
 "nbformat": 4,
 "nbformat_minor": 5
}
